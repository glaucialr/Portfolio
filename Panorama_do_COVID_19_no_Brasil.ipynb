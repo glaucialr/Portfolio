{
  "nbformat": 4,
  "nbformat_minor": 0,
  "metadata": {
    "colab": {
      "name": "Panorama do COVID-19 no Brasil.ipynb",
      "provenance": [],
      "collapsed_sections": [],
      "include_colab_link": true
    },
    "kernelspec": {
      "name": "python3",
      "display_name": "Python 3"
    }
  },
  "cells": [
    {
      "cell_type": "markdown",
      "metadata": {
        "id": "view-in-github",
        "colab_type": "text"
      },
      "source": [
        "<a href=\"https://colab.research.google.com/github/glaucialr/Portfolio/blob/master/Panorama_do_COVID_19_no_Brasil.ipynb\" target=\"_parent\"><img src=\"https://colab.research.google.com/assets/colab-badge.svg\" alt=\"Open In Colab\"/></a>"
      ]
    },
    {
      "cell_type": "markdown",
      "metadata": {
        "id": "-eFQZydM9O9J",
        "colab_type": "text"
      },
      "source": [
        "\n",
        "\n",
        "---\n",
        "  "
      ]
    },
    {
      "cell_type": "markdown",
      "metadata": {
        "id": "kLI0gJtzDGuQ",
        "colab_type": "text"
      },
      "source": [
        "# Panorama do COVID-19 no Brasil\n",
        "\n",
        "A Pandemia de COVID-19 em curso é uma doença infecciosa causada por recém-descoberto coronavírus.\n",
        "\n",
        "Transmitido principalmente por meio de gotículas provenientes de tosses ou espirros de pessoas infectadas, a gravidade dos sintomas varia muito de pessoa para pessoa.\n",
        "\n",
        "Fato é, não se sabe muita coisa a respeito do COVID-19. Estudos estão sendo realizados no mundo todo, porém os resultados ainda não são conclusivos e definitivos. Sua primeira aparação foi em Dezembro de 2019, em Wuhan, em março desse ano foi considerado pela OMS como **Pandemia**.\n",
        "\n",
        "<center><img alt=\"Colaboratory logo\" width=\"50%\" src=\"https://computerworld.com.br/wp-content/uploads/2020/03/Especial-coronav%C3%ADrus-tudo-o-que-j%C3%A1-publicamos-sobre-o-assunto-at%C3%A9-agora.jpg\"></center>\n",
        "\n",
        "Até o presente momento, observa-se que cerca de 80% dos casos confirmados são assintomáticos e rápidos. A maioria das pessoas que se encaixam nesse grupo, se recupera sem nenhuma sequela.\n",
        "\n",
        "No entanto, 15% das pessoas terão infecções graves e precisarão de oxigênio. O restante das pessoas, que representam 5%, serão classificadas como infecções muito graves e precisarão de ventilação assistida, por meio de respiradores mecânicos em ambiente hospitalar.\n",
        "Ainda não se tem um medicamento 100% e/ou vacina, porém existem varios estudos e vacinas em testes. Até a resolução deste problema, o indicado pela OMS seria o isolamento social e o uso de máscaras.\n",
        "Os efeitos mundiais desta Pandemia nao está somente ligados a Saúde, também incluem instabilidades social e economica, corrida às compras (mercados, farmácias, entre outros), disseminação de informações falsas, suspensão de aulas em escolas e universitárias e as várias teorias de conspiração a respeito do surgimento do vírus. \n",
        "\n",
        "Com o objetivo de elevar a consciência situacional a respeito do COVID-19 no Brasil, irei realizar uma análise sobre os dados públicos da doença."
      ]
    },
    {
      "cell_type": "markdown",
      "metadata": {
        "id": "0zxQHhIUDF_2",
        "colab_type": "text"
      },
      "source": [
        "## Obtenção dos Dados\n",
        "\n",
        "O Ministério de Saúde disponibiliza com atualização diária informações e um dataset das informações dos dados brasileiros. \n",
        "existem ainda outras fontes como o Consorcio da imprensa entre outros. Porém foi optado este já que falaremos da Pandamia não somente no Brasil como no Mundo.\n",
        "Os dados em questão foram extraídos [Our World in Data](https://ourworldindata.org/coronavirus) no dia , o dataset em questão,  Com seu primeiro dado upado em março de 2020, seu [repositório ](https://github.com/owid/covid-19-data/blob/master/public/data/README.md) apresenta diversas 34 variáveis, veremos o dicionario de dados para melhor apresentação das variáveis.\n",
        "\n",
        "\n",
        "### Dicionário de Variáveis:\n",
        "\n",
        "\n",
        " * `iso_code` - Código de paises com três letras.\n",
        " * `continent` - Continente da localização geográfica.\n",
        " * `location` -  Localização geográfica\t\n",
        " * `date` - Data da observação.\n",
        " * `total_cases` - Total de casos confirmados de COVID-19.\n",
        " * `new_cases` - Novos casos confirmados de COVID-19.\n",
        " * `total_deaths` -Total de mortes atribuídas ao COVID-19\n",
        " * `new_deaths` - Novas mortes atribuídas ao COVID-19.\n",
        " * `total_cases_per_million\t` - Total de casos confirmados de COVID-19 por 1.000.000 de pessoas.\n",
        " * `new_cases_per_million` - Novos casos confirmados de COVID-19 por 1.000.000 de pessoas.\n",
        " * `total_deaths_per_million` - Total de mortes atribuídas ao COVID-19 por 1.000.000 de pessoas.\t\n",
        " * `new_deaths_per_million` - Novas mortes atribuídas ao COVID-19 por 1.000.000 de pessoas.\t\n",
        " * `total_tests` - Total de testes para COVID-19.\n",
        " * `new_tests` - Novos testes para COVID-19.\n",
        " * `new_tests_smoothed` - Novos testes para COVID-19 (suavizado por 7 dias). Para países que não relatam dados de teste diariamente, assumimos que o teste mudou igualmente diariamente em qualquer período em que nenhum dado foi relatado. Isso produz uma série completa de números diários, que são calculados em média em uma janela de 7 dias consecutivos.\n",
        " * `total_tests_per_thousand` - Total de testes para COVID-19 por 1.000 pessoas.\n",
        " * `new_tests_per_thousand` - Novos testes para COVID-19 por 1.000 pessoas.\n",
        " * `new_tests_smoothed_per_thousand` - Novos testes para COVID-19 (7 dias suavizados) por 1.000 pessoas.\n",
        " * `tests_units` - Unidades usadas pelo local para relatar seus dados de teste.\n",
        " * `stringency_index` - Índice de Estresse da Resposta do Governo: medida composta baseada em 9 indicadores de resposta, incluindo fechamento de escolas, fechamento de locais de trabalho e proibições de viagens, redimensionados para um valor de 0 a 100 (100 = resposta mais estrita).\n",
        " * `population` - População em 2020.\n",
        " * `population_density` - Número de pessoas divididas por área terrestre, medida em quilômetros quadrados, no ano mais recente disponível.\n",
        " * `median_age` - Idade média da população, projeção da ONU para 2020.\n",
        " * `aged_65_older` - Proporção da população com 65 anos ou mais, ano mais recente disponível.\n",
        " * `aged_70_older` - Percentagem da população com 70 anos ou mais em 2015.\n",
        " * `gdp_per_capita` - Produto interno bruto com paridade do poder de compra (dólares internacionais constantes de 2011), último ano disponível.\n",
        " * `extreme_poverty` - Percentagem da população que vive em extrema pobreza, último ano disponível desde 2010.\t\n",
        " * `cvd_death_rate` - Taxa de mortalidade por doenças cardiovasculares em 2017.\n",
        " * `diabetes_prevalence` - \tPrevalência de diabetes (% da população entre 20 e 79 anos) em 2017.\n",
        " * `female_smokers` - Percentagem de mulheres que fumam, último ano disponível. \n",
        " * `male_smokers` - Proporção de homens que fumam, último ano disponível.\t\n",
        " * `handwashing_facilities` - Proporção da população com instalações básicas de lavagem das mãos nas instalações, último ano disponível.\n",
        " * `hospital_beds_per_thousand` - Camas de hospital por 1.000 pessoas, último ano disponível desde 2010.\n",
        " * `life_expectancy` - Expectativa de vida no nascimento em 2019.\t \t\t\n",
        "\n",
        "\n",
        "\n",
        "\n",
        "\n",
        "### Importando os dados do COVID-19\n",
        "\n"
      ]
    },
    {
      "cell_type": "code",
      "metadata": {
        "id": "lOtEJxe0DMEb",
        "colab_type": "code",
        "colab": {
          "base_uri": "https://localhost:8080/",
          "height": 70
        },
        "outputId": "1d703784-64ba-40e6-a32a-57002a89bfac"
      },
      "source": [
        "# importar as bibliotecas necessárias\n",
        "import pandas as pd\n",
        "import matplotlib.pyplot as plt\n",
        "import seaborn as sns\n",
        "\n",
        "\n",
        "# importar o dataset COVID-19 para um DataFrame - atualizado em 21/06/2020\n",
        "\n",
        "df = pd.read_csv(\"https://raw.githubusercontent.com/owid/covid-19-data/master/public/data/owid-covid-data.csv\")\n",
        "   \n"
      ],
      "execution_count": 1,
      "outputs": [
        {
          "output_type": "stream",
          "text": [
            "/usr/local/lib/python3.6/dist-packages/statsmodels/tools/_testing.py:19: FutureWarning: pandas.util.testing is deprecated. Use the functions in the public API at pandas.testing instead.\n",
            "  import pandas.util.testing as tm\n"
          ],
          "name": "stderr"
        }
      ]
    },
    {
      "cell_type": "markdown",
      "metadata": {
        "id": "qb5By2nIMS6m",
        "colab_type": "text"
      },
      "source": [
        "## Análise Exploratória dos Dados\n",
        "\n",
        "Iremos agora conhecer como os dados foram estruturados, e se houver necessidade tratar suas colunas e já apresentar algumas informações importantes.\n",
        "Lembramos que o Dataset utilizado está atualizado até a data de hoje 21/06/2020.\n",
        "\n",
        "### Análise Exploratória Inicial\n",
        "\n",
        "\n"
      ]
    },
    {
      "cell_type": "markdown",
      "metadata": {
        "id": "__TfiNtiPPA6",
        "colab_type": "text"
      },
      "source": [
        "Vamos ver agora os 05 primeiras linhas do Dataset."
      ]
    },
    {
      "cell_type": "code",
      "metadata": {
        "id": "gO1fv3D1PS4k",
        "colab_type": "code",
        "colab": {
          "base_uri": "https://localhost:8080/",
          "height": 299
        },
        "outputId": "83243ceb-83f1-4cda-a9e2-8b23c5fa6c26"
      },
      "source": [
        "df.head()"
      ],
      "execution_count": 2,
      "outputs": [
        {
          "output_type": "execute_result",
          "data": {
            "text/html": [
              "<div>\n",
              "<style scoped>\n",
              "    .dataframe tbody tr th:only-of-type {\n",
              "        vertical-align: middle;\n",
              "    }\n",
              "\n",
              "    .dataframe tbody tr th {\n",
              "        vertical-align: top;\n",
              "    }\n",
              "\n",
              "    .dataframe thead th {\n",
              "        text-align: right;\n",
              "    }\n",
              "</style>\n",
              "<table border=\"1\" class=\"dataframe\">\n",
              "  <thead>\n",
              "    <tr style=\"text-align: right;\">\n",
              "      <th></th>\n",
              "      <th>iso_code</th>\n",
              "      <th>continent</th>\n",
              "      <th>location</th>\n",
              "      <th>date</th>\n",
              "      <th>total_cases</th>\n",
              "      <th>new_cases</th>\n",
              "      <th>total_deaths</th>\n",
              "      <th>new_deaths</th>\n",
              "      <th>total_cases_per_million</th>\n",
              "      <th>new_cases_per_million</th>\n",
              "      <th>total_deaths_per_million</th>\n",
              "      <th>new_deaths_per_million</th>\n",
              "      <th>total_tests</th>\n",
              "      <th>new_tests</th>\n",
              "      <th>total_tests_per_thousand</th>\n",
              "      <th>new_tests_per_thousand</th>\n",
              "      <th>new_tests_smoothed</th>\n",
              "      <th>new_tests_smoothed_per_thousand</th>\n",
              "      <th>tests_units</th>\n",
              "      <th>stringency_index</th>\n",
              "      <th>population</th>\n",
              "      <th>population_density</th>\n",
              "      <th>median_age</th>\n",
              "      <th>aged_65_older</th>\n",
              "      <th>aged_70_older</th>\n",
              "      <th>gdp_per_capita</th>\n",
              "      <th>extreme_poverty</th>\n",
              "      <th>cvd_death_rate</th>\n",
              "      <th>diabetes_prevalence</th>\n",
              "      <th>female_smokers</th>\n",
              "      <th>male_smokers</th>\n",
              "      <th>handwashing_facilities</th>\n",
              "      <th>hospital_beds_per_thousand</th>\n",
              "      <th>life_expectancy</th>\n",
              "    </tr>\n",
              "  </thead>\n",
              "  <tbody>\n",
              "    <tr>\n",
              "      <th>0</th>\n",
              "      <td>AFG</td>\n",
              "      <td>Asia</td>\n",
              "      <td>Afghanistan</td>\n",
              "      <td>2019-12-31</td>\n",
              "      <td>0.0</td>\n",
              "      <td>0.0</td>\n",
              "      <td>0.0</td>\n",
              "      <td>0.0</td>\n",
              "      <td>0.0</td>\n",
              "      <td>0.0</td>\n",
              "      <td>0.0</td>\n",
              "      <td>0.0</td>\n",
              "      <td>NaN</td>\n",
              "      <td>NaN</td>\n",
              "      <td>NaN</td>\n",
              "      <td>NaN</td>\n",
              "      <td>NaN</td>\n",
              "      <td>NaN</td>\n",
              "      <td>NaN</td>\n",
              "      <td>NaN</td>\n",
              "      <td>38928341</td>\n",
              "      <td>54.422</td>\n",
              "      <td>18.6</td>\n",
              "      <td>2.581</td>\n",
              "      <td>1.337</td>\n",
              "      <td>1803.987</td>\n",
              "      <td>NaN</td>\n",
              "      <td>597.029</td>\n",
              "      <td>9.59</td>\n",
              "      <td>NaN</td>\n",
              "      <td>NaN</td>\n",
              "      <td>37.746</td>\n",
              "      <td>0.5</td>\n",
              "      <td>64.83</td>\n",
              "    </tr>\n",
              "    <tr>\n",
              "      <th>1</th>\n",
              "      <td>AFG</td>\n",
              "      <td>Asia</td>\n",
              "      <td>Afghanistan</td>\n",
              "      <td>2020-01-01</td>\n",
              "      <td>0.0</td>\n",
              "      <td>0.0</td>\n",
              "      <td>0.0</td>\n",
              "      <td>0.0</td>\n",
              "      <td>0.0</td>\n",
              "      <td>0.0</td>\n",
              "      <td>0.0</td>\n",
              "      <td>0.0</td>\n",
              "      <td>NaN</td>\n",
              "      <td>NaN</td>\n",
              "      <td>NaN</td>\n",
              "      <td>NaN</td>\n",
              "      <td>NaN</td>\n",
              "      <td>NaN</td>\n",
              "      <td>NaN</td>\n",
              "      <td>0.0</td>\n",
              "      <td>38928341</td>\n",
              "      <td>54.422</td>\n",
              "      <td>18.6</td>\n",
              "      <td>2.581</td>\n",
              "      <td>1.337</td>\n",
              "      <td>1803.987</td>\n",
              "      <td>NaN</td>\n",
              "      <td>597.029</td>\n",
              "      <td>9.59</td>\n",
              "      <td>NaN</td>\n",
              "      <td>NaN</td>\n",
              "      <td>37.746</td>\n",
              "      <td>0.5</td>\n",
              "      <td>64.83</td>\n",
              "    </tr>\n",
              "    <tr>\n",
              "      <th>2</th>\n",
              "      <td>AFG</td>\n",
              "      <td>Asia</td>\n",
              "      <td>Afghanistan</td>\n",
              "      <td>2020-01-02</td>\n",
              "      <td>0.0</td>\n",
              "      <td>0.0</td>\n",
              "      <td>0.0</td>\n",
              "      <td>0.0</td>\n",
              "      <td>0.0</td>\n",
              "      <td>0.0</td>\n",
              "      <td>0.0</td>\n",
              "      <td>0.0</td>\n",
              "      <td>NaN</td>\n",
              "      <td>NaN</td>\n",
              "      <td>NaN</td>\n",
              "      <td>NaN</td>\n",
              "      <td>NaN</td>\n",
              "      <td>NaN</td>\n",
              "      <td>NaN</td>\n",
              "      <td>0.0</td>\n",
              "      <td>38928341</td>\n",
              "      <td>54.422</td>\n",
              "      <td>18.6</td>\n",
              "      <td>2.581</td>\n",
              "      <td>1.337</td>\n",
              "      <td>1803.987</td>\n",
              "      <td>NaN</td>\n",
              "      <td>597.029</td>\n",
              "      <td>9.59</td>\n",
              "      <td>NaN</td>\n",
              "      <td>NaN</td>\n",
              "      <td>37.746</td>\n",
              "      <td>0.5</td>\n",
              "      <td>64.83</td>\n",
              "    </tr>\n",
              "    <tr>\n",
              "      <th>3</th>\n",
              "      <td>AFG</td>\n",
              "      <td>Asia</td>\n",
              "      <td>Afghanistan</td>\n",
              "      <td>2020-01-03</td>\n",
              "      <td>0.0</td>\n",
              "      <td>0.0</td>\n",
              "      <td>0.0</td>\n",
              "      <td>0.0</td>\n",
              "      <td>0.0</td>\n",
              "      <td>0.0</td>\n",
              "      <td>0.0</td>\n",
              "      <td>0.0</td>\n",
              "      <td>NaN</td>\n",
              "      <td>NaN</td>\n",
              "      <td>NaN</td>\n",
              "      <td>NaN</td>\n",
              "      <td>NaN</td>\n",
              "      <td>NaN</td>\n",
              "      <td>NaN</td>\n",
              "      <td>0.0</td>\n",
              "      <td>38928341</td>\n",
              "      <td>54.422</td>\n",
              "      <td>18.6</td>\n",
              "      <td>2.581</td>\n",
              "      <td>1.337</td>\n",
              "      <td>1803.987</td>\n",
              "      <td>NaN</td>\n",
              "      <td>597.029</td>\n",
              "      <td>9.59</td>\n",
              "      <td>NaN</td>\n",
              "      <td>NaN</td>\n",
              "      <td>37.746</td>\n",
              "      <td>0.5</td>\n",
              "      <td>64.83</td>\n",
              "    </tr>\n",
              "    <tr>\n",
              "      <th>4</th>\n",
              "      <td>AFG</td>\n",
              "      <td>Asia</td>\n",
              "      <td>Afghanistan</td>\n",
              "      <td>2020-01-04</td>\n",
              "      <td>0.0</td>\n",
              "      <td>0.0</td>\n",
              "      <td>0.0</td>\n",
              "      <td>0.0</td>\n",
              "      <td>0.0</td>\n",
              "      <td>0.0</td>\n",
              "      <td>0.0</td>\n",
              "      <td>0.0</td>\n",
              "      <td>NaN</td>\n",
              "      <td>NaN</td>\n",
              "      <td>NaN</td>\n",
              "      <td>NaN</td>\n",
              "      <td>NaN</td>\n",
              "      <td>NaN</td>\n",
              "      <td>NaN</td>\n",
              "      <td>0.0</td>\n",
              "      <td>38928341</td>\n",
              "      <td>54.422</td>\n",
              "      <td>18.6</td>\n",
              "      <td>2.581</td>\n",
              "      <td>1.337</td>\n",
              "      <td>1803.987</td>\n",
              "      <td>NaN</td>\n",
              "      <td>597.029</td>\n",
              "      <td>9.59</td>\n",
              "      <td>NaN</td>\n",
              "      <td>NaN</td>\n",
              "      <td>37.746</td>\n",
              "      <td>0.5</td>\n",
              "      <td>64.83</td>\n",
              "    </tr>\n",
              "  </tbody>\n",
              "</table>\n",
              "</div>"
            ],
            "text/plain": [
              "  iso_code continent  ... hospital_beds_per_thousand life_expectancy\n",
              "0      AFG      Asia  ...                        0.5           64.83\n",
              "1      AFG      Asia  ...                        0.5           64.83\n",
              "2      AFG      Asia  ...                        0.5           64.83\n",
              "3      AFG      Asia  ...                        0.5           64.83\n",
              "4      AFG      Asia  ...                        0.5           64.83\n",
              "\n",
              "[5 rows x 34 columns]"
            ]
          },
          "metadata": {
            "tags": []
          },
          "execution_count": 2
        }
      ]
    },
    {
      "cell_type": "markdown",
      "metadata": {
        "id": "dZX3x2D8gUqH",
        "colab_type": "text"
      },
      "source": [
        "Qual tamanho do Dataset.\n"
      ]
    },
    {
      "cell_type": "code",
      "metadata": {
        "id": "-LQ6_r6vgZYd",
        "colab_type": "code",
        "colab": {
          "base_uri": "https://localhost:8080/",
          "height": 34
        },
        "outputId": "e2189e60-f9a7-4beb-bc59-5d21d0599329"
      },
      "source": [
        "df.shape"
      ],
      "execution_count": 3,
      "outputs": [
        {
          "output_type": "execute_result",
          "data": {
            "text/plain": [
              "(24947, 34)"
            ]
          },
          "metadata": {
            "tags": []
          },
          "execution_count": 3
        }
      ]
    },
    {
      "cell_type": "markdown",
      "metadata": {
        "id": "rrLAySYUgd-w",
        "colab_type": "text"
      },
      "source": [
        "Podemos verificar que temos **34 variáveis** e **24.947 entradas** ."
      ]
    },
    {
      "cell_type": "markdown",
      "metadata": {
        "id": "ZIoYPKFng7sH",
        "colab_type": "text"
      },
      "source": [
        "\n",
        "Podemos ver a apresentação das colunas, já estamos familiarizados com as mesmas já que foi o apresentado o *Dicionário de Variáveis*."
      ]
    },
    {
      "cell_type": "code",
      "metadata": {
        "id": "MiMzql9OhJEw",
        "colab_type": "code",
        "colab": {
          "base_uri": "https://localhost:8080/",
          "height": 218
        },
        "outputId": "c4bf4954-6864-40bb-b1e4-45da6aba56d9"
      },
      "source": [
        "df.columns"
      ],
      "execution_count": 4,
      "outputs": [
        {
          "output_type": "execute_result",
          "data": {
            "text/plain": [
              "Index(['iso_code', 'continent', 'location', 'date', 'total_cases', 'new_cases',\n",
              "       'total_deaths', 'new_deaths', 'total_cases_per_million',\n",
              "       'new_cases_per_million', 'total_deaths_per_million',\n",
              "       'new_deaths_per_million', 'total_tests', 'new_tests',\n",
              "       'total_tests_per_thousand', 'new_tests_per_thousand',\n",
              "       'new_tests_smoothed', 'new_tests_smoothed_per_thousand', 'tests_units',\n",
              "       'stringency_index', 'population', 'population_density', 'median_age',\n",
              "       'aged_65_older', 'aged_70_older', 'gdp_per_capita', 'extreme_poverty',\n",
              "       'cvd_death_rate', 'diabetes_prevalence', 'female_smokers',\n",
              "       'male_smokers', 'handwashing_facilities', 'hospital_beds_per_thousand',\n",
              "       'life_expectancy'],\n",
              "      dtype='object')"
            ]
          },
          "metadata": {
            "tags": []
          },
          "execution_count": 4
        }
      ]
    },
    {
      "cell_type": "markdown",
      "metadata": {
        "id": "qq45M5Lng7X5",
        "colab_type": "text"
      },
      "source": [
        "Podemos verificar quais tipos de variáveis.\n"
      ]
    },
    {
      "cell_type": "code",
      "metadata": {
        "id": "1oQjZlxahCnP",
        "colab_type": "code",
        "colab": {
          "base_uri": "https://localhost:8080/",
          "height": 605
        },
        "outputId": "3ccb9f3a-ae28-4f6b-a842-bba7d319fcbc"
      },
      "source": [
        "df.dtypes"
      ],
      "execution_count": 5,
      "outputs": [
        {
          "output_type": "execute_result",
          "data": {
            "text/plain": [
              "iso_code                            object\n",
              "continent                           object\n",
              "location                            object\n",
              "date                                object\n",
              "total_cases                        float64\n",
              "new_cases                          float64\n",
              "total_deaths                       float64\n",
              "new_deaths                         float64\n",
              "total_cases_per_million            float64\n",
              "new_cases_per_million              float64\n",
              "total_deaths_per_million           float64\n",
              "new_deaths_per_million             float64\n",
              "total_tests                        float64\n",
              "new_tests                          float64\n",
              "total_tests_per_thousand           float64\n",
              "new_tests_per_thousand             float64\n",
              "new_tests_smoothed                 float64\n",
              "new_tests_smoothed_per_thousand    float64\n",
              "tests_units                         object\n",
              "stringency_index                   float64\n",
              "population                           int64\n",
              "population_density                 float64\n",
              "median_age                         float64\n",
              "aged_65_older                      float64\n",
              "aged_70_older                      float64\n",
              "gdp_per_capita                     float64\n",
              "extreme_poverty                    float64\n",
              "cvd_death_rate                     float64\n",
              "diabetes_prevalence                float64\n",
              "female_smokers                     float64\n",
              "male_smokers                       float64\n",
              "handwashing_facilities             float64\n",
              "hospital_beds_per_thousand         float64\n",
              "life_expectancy                    float64\n",
              "dtype: object"
            ]
          },
          "metadata": {
            "tags": []
          },
          "execution_count": 5
        }
      ]
    },
    {
      "cell_type": "markdown",
      "metadata": {
        "id": "m02Wlu4LhgGg",
        "colab_type": "text"
      },
      "source": [
        "Nessa verificação dos tipos de variáveis, podemos verificar que a coluna Date está como tipo object, vamos fazer o tratamento da mesma e altera-la para o tipo data para melhor manipulação.\n"
      ]
    },
    {
      "cell_type": "code",
      "metadata": {
        "id": "_I-QwyfQh6Rb",
        "colab_type": "code",
        "colab": {}
      },
      "source": [
        "df.date = pd.to_datetime(df.date)\n"
      ],
      "execution_count": 6,
      "outputs": []
    },
    {
      "cell_type": "code",
      "metadata": {
        "id": "9t5rmQVJiGW_",
        "colab_type": "code",
        "colab": {
          "base_uri": "https://localhost:8080/",
          "height": 605
        },
        "outputId": "b4230f23-1cb2-4684-a55c-a2e842947d78"
      },
      "source": [
        "df.dtypes"
      ],
      "execution_count": null,
      "outputs": [
        {
          "output_type": "execute_result",
          "data": {
            "text/plain": [
              "iso_code                                   object\n",
              "continent                                  object\n",
              "location                                   object\n",
              "date                               datetime64[ns]\n",
              "total_cases                               float64\n",
              "new_cases                                 float64\n",
              "total_deaths                              float64\n",
              "new_deaths                                float64\n",
              "total_cases_per_million                   float64\n",
              "new_cases_per_million                     float64\n",
              "total_deaths_per_million                  float64\n",
              "new_deaths_per_million                    float64\n",
              "total_tests                               float64\n",
              "new_tests                                 float64\n",
              "total_tests_per_thousand                  float64\n",
              "new_tests_per_thousand                    float64\n",
              "new_tests_smoothed                        float64\n",
              "new_tests_smoothed_per_thousand           float64\n",
              "tests_units                                object\n",
              "stringency_index                          float64\n",
              "population                                  int64\n",
              "population_density                        float64\n",
              "median_age                                float64\n",
              "aged_65_older                             float64\n",
              "aged_70_older                             float64\n",
              "gdp_per_capita                            float64\n",
              "extreme_poverty                           float64\n",
              "cvd_death_rate                            float64\n",
              "diabetes_prevalence                       float64\n",
              "female_smokers                            float64\n",
              "male_smokers                              float64\n",
              "handwashing_facilities                    float64\n",
              "hospital_beds_per_thousand                float64\n",
              "life_expectancy                           float64\n",
              "dtype: object"
            ]
          },
          "metadata": {
            "tags": []
          },
          "execution_count": 8
        }
      ]
    },
    {
      "cell_type": "markdown",
      "metadata": {
        "id": "fSs7LHeTiPPR",
        "colab_type": "text"
      },
      "source": [
        "Comparando as duas listas de variaveis podemos confirmar a alteração do tipo. "
      ]
    },
    {
      "cell_type": "markdown",
      "metadata": {
        "id": "mRLmGKGaiafM",
        "colab_type": "text"
      },
      "source": [
        "Identificaremos agora as colunas com dados ausentes de forma crescente.\n"
      ]
    },
    {
      "cell_type": "code",
      "metadata": {
        "id": "t76sZOWZileV",
        "colab_type": "code",
        "colab": {
          "base_uri": "https://localhost:8080/",
          "height": 605
        },
        "outputId": "52489e46-9f61-4ffc-e415-5c1a6eb67ddb"
      },
      "source": [
        "(df.isnull().sum() / df.shape[0]).sort_values(ascending=False)"
      ],
      "execution_count": 7,
      "outputs": [
        {
          "output_type": "execute_result",
          "data": {
            "text/plain": [
              "new_tests                          0.741211\n",
              "new_tests_per_thousand             0.741211\n",
              "total_tests_per_thousand           0.714314\n",
              "total_tests                        0.714314\n",
              "new_tests_smoothed_per_thousand    0.690464\n",
              "new_tests_smoothed                 0.690464\n",
              "tests_units                        0.665731\n",
              "handwashing_facilities             0.589089\n",
              "extreme_poverty                    0.394476\n",
              "male_smokers                       0.271175\n",
              "female_smokers                     0.262757\n",
              "stringency_index                   0.193330\n",
              "hospital_beds_per_thousand         0.159979\n",
              "gdp_per_capita                     0.096845\n",
              "aged_65_older                      0.096044\n",
              "aged_70_older                      0.087866\n",
              "median_age                         0.083176\n",
              "cvd_death_rate                     0.082575\n",
              "diabetes_prevalence                0.052511\n",
              "population_density                 0.037079\n",
              "life_expectancy                    0.011464\n",
              "new_deaths_per_million             0.008979\n",
              "total_deaths_per_million           0.008979\n",
              "new_deaths                         0.008979\n",
              "total_deaths                       0.008979\n",
              "new_cases_per_million              0.008939\n",
              "total_cases_per_million            0.008939\n",
              "new_cases                          0.008939\n",
              "total_cases                        0.008939\n",
              "continent                          0.006975\n",
              "population                         0.000000\n",
              "date                               0.000000\n",
              "location                           0.000000\n",
              "iso_code                           0.000000\n",
              "dtype: float64"
            ]
          },
          "metadata": {
            "tags": []
          },
          "execution_count": 7
        }
      ]
    },
    {
      "cell_type": "markdown",
      "metadata": {
        "id": "7ppUSkSTjBTd",
        "colab_type": "text"
      },
      "source": [
        "A ultima data do dataset é o dia 21/06/2020, quais países com maiior caso e total de mortes.\n",
        "\n",
        "\n"
      ]
    },
    {
      "cell_type": "code",
      "metadata": {
        "id": "FR2cIqavjDJq",
        "colab_type": "code",
        "colab": {
          "base_uri": "https://localhost:8080/",
          "height": 590
        },
        "outputId": "68f1832e-de1d-48c1-e113-2a5e7de78305"
      },
      "source": [
        "df.loc[df.date == '2020-06-21'].sort_values(by=\"total_cases\", ascending=False)\n",
        "df.loc[df.date == '2020-06-21'].sort_values(by=\"total_deaths\", ascending=False)\n"
      ],
      "execution_count": 8,
      "outputs": [
        {
          "output_type": "execute_result",
          "data": {
            "text/html": [
              "<div>\n",
              "<style scoped>\n",
              "    .dataframe tbody tr th:only-of-type {\n",
              "        vertical-align: middle;\n",
              "    }\n",
              "\n",
              "    .dataframe tbody tr th {\n",
              "        vertical-align: top;\n",
              "    }\n",
              "\n",
              "    .dataframe thead th {\n",
              "        text-align: right;\n",
              "    }\n",
              "</style>\n",
              "<table border=\"1\" class=\"dataframe\">\n",
              "  <thead>\n",
              "    <tr style=\"text-align: right;\">\n",
              "      <th></th>\n",
              "      <th>iso_code</th>\n",
              "      <th>continent</th>\n",
              "      <th>location</th>\n",
              "      <th>date</th>\n",
              "      <th>total_cases</th>\n",
              "      <th>new_cases</th>\n",
              "      <th>total_deaths</th>\n",
              "      <th>new_deaths</th>\n",
              "      <th>total_cases_per_million</th>\n",
              "      <th>new_cases_per_million</th>\n",
              "      <th>total_deaths_per_million</th>\n",
              "      <th>new_deaths_per_million</th>\n",
              "      <th>total_tests</th>\n",
              "      <th>new_tests</th>\n",
              "      <th>total_tests_per_thousand</th>\n",
              "      <th>new_tests_per_thousand</th>\n",
              "      <th>new_tests_smoothed</th>\n",
              "      <th>new_tests_smoothed_per_thousand</th>\n",
              "      <th>tests_units</th>\n",
              "      <th>stringency_index</th>\n",
              "      <th>population</th>\n",
              "      <th>population_density</th>\n",
              "      <th>median_age</th>\n",
              "      <th>aged_65_older</th>\n",
              "      <th>aged_70_older</th>\n",
              "      <th>gdp_per_capita</th>\n",
              "      <th>extreme_poverty</th>\n",
              "      <th>cvd_death_rate</th>\n",
              "      <th>diabetes_prevalence</th>\n",
              "      <th>female_smokers</th>\n",
              "      <th>male_smokers</th>\n",
              "      <th>handwashing_facilities</th>\n",
              "      <th>hospital_beds_per_thousand</th>\n",
              "      <th>life_expectancy</th>\n",
              "    </tr>\n",
              "  </thead>\n",
              "  <tbody>\n",
              "    <tr>\n",
              "      <th>24946</th>\n",
              "      <td>OWID_WRL</td>\n",
              "      <td>NaN</td>\n",
              "      <td>World</td>\n",
              "      <td>2020-06-21</td>\n",
              "      <td>8795672.0</td>\n",
              "      <td>161585.0</td>\n",
              "      <td>466189.0</td>\n",
              "      <td>4207.0</td>\n",
              "      <td>1128.403</td>\n",
              "      <td>20.730</td>\n",
              "      <td>59.808</td>\n",
              "      <td>0.540</td>\n",
              "      <td>NaN</td>\n",
              "      <td>NaN</td>\n",
              "      <td>NaN</td>\n",
              "      <td>NaN</td>\n",
              "      <td>NaN</td>\n",
              "      <td>NaN</td>\n",
              "      <td>NaN</td>\n",
              "      <td>NaN</td>\n",
              "      <td>7794798729</td>\n",
              "      <td>58.045</td>\n",
              "      <td>30.9</td>\n",
              "      <td>8.696</td>\n",
              "      <td>5.355</td>\n",
              "      <td>15469.207</td>\n",
              "      <td>10.0</td>\n",
              "      <td>233.070</td>\n",
              "      <td>8.51</td>\n",
              "      <td>6.434</td>\n",
              "      <td>34.635</td>\n",
              "      <td>60.13</td>\n",
              "      <td>2.705</td>\n",
              "      <td>72.58</td>\n",
              "    </tr>\n",
              "    <tr>\n",
              "      <th>23896</th>\n",
              "      <td>USA</td>\n",
              "      <td>North America</td>\n",
              "      <td>United States</td>\n",
              "      <td>2020-06-21</td>\n",
              "      <td>2255119.0</td>\n",
              "      <td>34158.0</td>\n",
              "      <td>119719.0</td>\n",
              "      <td>607.0</td>\n",
              "      <td>6812.994</td>\n",
              "      <td>103.196</td>\n",
              "      <td>361.686</td>\n",
              "      <td>1.834</td>\n",
              "      <td>NaN</td>\n",
              "      <td>NaN</td>\n",
              "      <td>NaN</td>\n",
              "      <td>NaN</td>\n",
              "      <td>NaN</td>\n",
              "      <td>NaN</td>\n",
              "      <td>NaN</td>\n",
              "      <td>NaN</td>\n",
              "      <td>331002647</td>\n",
              "      <td>35.608</td>\n",
              "      <td>38.3</td>\n",
              "      <td>15.413</td>\n",
              "      <td>9.732</td>\n",
              "      <td>54225.446</td>\n",
              "      <td>1.2</td>\n",
              "      <td>151.089</td>\n",
              "      <td>10.79</td>\n",
              "      <td>19.100</td>\n",
              "      <td>24.600</td>\n",
              "      <td>NaN</td>\n",
              "      <td>2.770</td>\n",
              "      <td>78.86</td>\n",
              "    </tr>\n",
              "    <tr>\n",
              "      <th>3432</th>\n",
              "      <td>BRA</td>\n",
              "      <td>South America</td>\n",
              "      <td>Brazil</td>\n",
              "      <td>2020-06-21</td>\n",
              "      <td>1067579.0</td>\n",
              "      <td>34666.0</td>\n",
              "      <td>49976.0</td>\n",
              "      <td>1022.0</td>\n",
              "      <td>5022.497</td>\n",
              "      <td>163.089</td>\n",
              "      <td>235.115</td>\n",
              "      <td>4.808</td>\n",
              "      <td>NaN</td>\n",
              "      <td>NaN</td>\n",
              "      <td>NaN</td>\n",
              "      <td>NaN</td>\n",
              "      <td>NaN</td>\n",
              "      <td>NaN</td>\n",
              "      <td>NaN</td>\n",
              "      <td>NaN</td>\n",
              "      <td>212559409</td>\n",
              "      <td>25.040</td>\n",
              "      <td>33.5</td>\n",
              "      <td>8.552</td>\n",
              "      <td>5.060</td>\n",
              "      <td>14103.452</td>\n",
              "      <td>3.4</td>\n",
              "      <td>177.961</td>\n",
              "      <td>8.11</td>\n",
              "      <td>10.100</td>\n",
              "      <td>17.900</td>\n",
              "      <td>NaN</td>\n",
              "      <td>2.200</td>\n",
              "      <td>75.88</td>\n",
              "    </tr>\n",
              "    <tr>\n",
              "      <th>23722</th>\n",
              "      <td>GBR</td>\n",
              "      <td>Europe</td>\n",
              "      <td>United Kingdom</td>\n",
              "      <td>2020-06-21</td>\n",
              "      <td>303110.0</td>\n",
              "      <td>1295.0</td>\n",
              "      <td>42589.0</td>\n",
              "      <td>128.0</td>\n",
              "      <td>4464.985</td>\n",
              "      <td>19.076</td>\n",
              "      <td>627.361</td>\n",
              "      <td>1.886</td>\n",
              "      <td>NaN</td>\n",
              "      <td>NaN</td>\n",
              "      <td>NaN</td>\n",
              "      <td>NaN</td>\n",
              "      <td>NaN</td>\n",
              "      <td>NaN</td>\n",
              "      <td>NaN</td>\n",
              "      <td>NaN</td>\n",
              "      <td>67886004</td>\n",
              "      <td>272.898</td>\n",
              "      <td>40.8</td>\n",
              "      <td>18.517</td>\n",
              "      <td>12.527</td>\n",
              "      <td>39753.244</td>\n",
              "      <td>0.2</td>\n",
              "      <td>122.137</td>\n",
              "      <td>4.28</td>\n",
              "      <td>20.000</td>\n",
              "      <td>24.700</td>\n",
              "      <td>NaN</td>\n",
              "      <td>2.540</td>\n",
              "      <td>81.32</td>\n",
              "    </tr>\n",
              "    <tr>\n",
              "      <th>11815</th>\n",
              "      <td>ITA</td>\n",
              "      <td>Europe</td>\n",
              "      <td>Italy</td>\n",
              "      <td>2020-06-21</td>\n",
              "      <td>238275.0</td>\n",
              "      <td>264.0</td>\n",
              "      <td>34610.0</td>\n",
              "      <td>49.0</td>\n",
              "      <td>3940.916</td>\n",
              "      <td>4.366</td>\n",
              "      <td>572.427</td>\n",
              "      <td>0.810</td>\n",
              "      <td>NaN</td>\n",
              "      <td>NaN</td>\n",
              "      <td>NaN</td>\n",
              "      <td>NaN</td>\n",
              "      <td>NaN</td>\n",
              "      <td>NaN</td>\n",
              "      <td>NaN</td>\n",
              "      <td>NaN</td>\n",
              "      <td>60461828</td>\n",
              "      <td>205.859</td>\n",
              "      <td>47.9</td>\n",
              "      <td>23.021</td>\n",
              "      <td>16.240</td>\n",
              "      <td>35220.084</td>\n",
              "      <td>2.0</td>\n",
              "      <td>113.151</td>\n",
              "      <td>4.78</td>\n",
              "      <td>19.800</td>\n",
              "      <td>27.800</td>\n",
              "      <td>NaN</td>\n",
              "      <td>3.180</td>\n",
              "      <td>83.51</td>\n",
              "    </tr>\n",
              "    <tr>\n",
              "      <th>...</th>\n",
              "      <td>...</td>\n",
              "      <td>...</td>\n",
              "      <td>...</td>\n",
              "      <td>...</td>\n",
              "      <td>...</td>\n",
              "      <td>...</td>\n",
              "      <td>...</td>\n",
              "      <td>...</td>\n",
              "      <td>...</td>\n",
              "      <td>...</td>\n",
              "      <td>...</td>\n",
              "      <td>...</td>\n",
              "      <td>...</td>\n",
              "      <td>...</td>\n",
              "      <td>...</td>\n",
              "      <td>...</td>\n",
              "      <td>...</td>\n",
              "      <td>...</td>\n",
              "      <td>...</td>\n",
              "      <td>...</td>\n",
              "      <td>...</td>\n",
              "      <td>...</td>\n",
              "      <td>...</td>\n",
              "      <td>...</td>\n",
              "      <td>...</td>\n",
              "      <td>...</td>\n",
              "      <td>...</td>\n",
              "      <td>...</td>\n",
              "      <td>...</td>\n",
              "      <td>...</td>\n",
              "      <td>...</td>\n",
              "      <td>...</td>\n",
              "      <td>...</td>\n",
              "      <td>...</td>\n",
              "    </tr>\n",
              "    <tr>\n",
              "      <th>20177</th>\n",
              "      <td>SYC</td>\n",
              "      <td>Africa</td>\n",
              "      <td>Seychelles</td>\n",
              "      <td>2020-06-21</td>\n",
              "      <td>11.0</td>\n",
              "      <td>0.0</td>\n",
              "      <td>0.0</td>\n",
              "      <td>0.0</td>\n",
              "      <td>111.857</td>\n",
              "      <td>0.000</td>\n",
              "      <td>0.000</td>\n",
              "      <td>0.000</td>\n",
              "      <td>NaN</td>\n",
              "      <td>NaN</td>\n",
              "      <td>NaN</td>\n",
              "      <td>NaN</td>\n",
              "      <td>NaN</td>\n",
              "      <td>NaN</td>\n",
              "      <td>NaN</td>\n",
              "      <td>NaN</td>\n",
              "      <td>98340</td>\n",
              "      <td>208.354</td>\n",
              "      <td>36.2</td>\n",
              "      <td>8.606</td>\n",
              "      <td>5.586</td>\n",
              "      <td>26382.287</td>\n",
              "      <td>1.1</td>\n",
              "      <td>242.648</td>\n",
              "      <td>10.55</td>\n",
              "      <td>7.100</td>\n",
              "      <td>35.700</td>\n",
              "      <td>NaN</td>\n",
              "      <td>3.600</td>\n",
              "      <td>73.40</td>\n",
              "    </tr>\n",
              "    <tr>\n",
              "      <th>8349</th>\n",
              "      <td>PYF</td>\n",
              "      <td>Oceania</td>\n",
              "      <td>French Polynesia</td>\n",
              "      <td>2020-06-21</td>\n",
              "      <td>60.0</td>\n",
              "      <td>0.0</td>\n",
              "      <td>0.0</td>\n",
              "      <td>0.0</td>\n",
              "      <td>213.596</td>\n",
              "      <td>0.000</td>\n",
              "      <td>0.000</td>\n",
              "      <td>0.000</td>\n",
              "      <td>NaN</td>\n",
              "      <td>NaN</td>\n",
              "      <td>NaN</td>\n",
              "      <td>NaN</td>\n",
              "      <td>NaN</td>\n",
              "      <td>NaN</td>\n",
              "      <td>NaN</td>\n",
              "      <td>NaN</td>\n",
              "      <td>280904</td>\n",
              "      <td>77.324</td>\n",
              "      <td>32.7</td>\n",
              "      <td>7.775</td>\n",
              "      <td>4.593</td>\n",
              "      <td>NaN</td>\n",
              "      <td>NaN</td>\n",
              "      <td>NaN</td>\n",
              "      <td>22.63</td>\n",
              "      <td>NaN</td>\n",
              "      <td>NaN</td>\n",
              "      <td>NaN</td>\n",
              "      <td>NaN</td>\n",
              "      <td>77.66</td>\n",
              "    </tr>\n",
              "    <tr>\n",
              "      <th>7906</th>\n",
              "      <td>FJI</td>\n",
              "      <td>Oceania</td>\n",
              "      <td>Fiji</td>\n",
              "      <td>2020-06-21</td>\n",
              "      <td>18.0</td>\n",
              "      <td>0.0</td>\n",
              "      <td>0.0</td>\n",
              "      <td>0.0</td>\n",
              "      <td>20.079</td>\n",
              "      <td>0.000</td>\n",
              "      <td>0.000</td>\n",
              "      <td>0.000</td>\n",
              "      <td>NaN</td>\n",
              "      <td>NaN</td>\n",
              "      <td>NaN</td>\n",
              "      <td>NaN</td>\n",
              "      <td>NaN</td>\n",
              "      <td>NaN</td>\n",
              "      <td>NaN</td>\n",
              "      <td>NaN</td>\n",
              "      <td>896444</td>\n",
              "      <td>49.562</td>\n",
              "      <td>28.6</td>\n",
              "      <td>6.224</td>\n",
              "      <td>3.284</td>\n",
              "      <td>8702.975</td>\n",
              "      <td>1.4</td>\n",
              "      <td>412.820</td>\n",
              "      <td>14.49</td>\n",
              "      <td>10.200</td>\n",
              "      <td>34.800</td>\n",
              "      <td>NaN</td>\n",
              "      <td>2.300</td>\n",
              "      <td>67.44</td>\n",
              "    </tr>\n",
              "    <tr>\n",
              "      <th>7812</th>\n",
              "      <td>FLK</td>\n",
              "      <td>South America</td>\n",
              "      <td>Falkland Islands</td>\n",
              "      <td>2020-06-21</td>\n",
              "      <td>13.0</td>\n",
              "      <td>0.0</td>\n",
              "      <td>0.0</td>\n",
              "      <td>0.0</td>\n",
              "      <td>3732.415</td>\n",
              "      <td>0.000</td>\n",
              "      <td>0.000</td>\n",
              "      <td>0.000</td>\n",
              "      <td>NaN</td>\n",
              "      <td>NaN</td>\n",
              "      <td>NaN</td>\n",
              "      <td>NaN</td>\n",
              "      <td>NaN</td>\n",
              "      <td>NaN</td>\n",
              "      <td>NaN</td>\n",
              "      <td>NaN</td>\n",
              "      <td>3483</td>\n",
              "      <td>NaN</td>\n",
              "      <td>NaN</td>\n",
              "      <td>NaN</td>\n",
              "      <td>NaN</td>\n",
              "      <td>NaN</td>\n",
              "      <td>NaN</td>\n",
              "      <td>NaN</td>\n",
              "      <td>NaN</td>\n",
              "      <td>NaN</td>\n",
              "      <td>NaN</td>\n",
              "      <td>NaN</td>\n",
              "      <td>NaN</td>\n",
              "      <td>81.44</td>\n",
              "    </tr>\n",
              "    <tr>\n",
              "      <th>19305</th>\n",
              "      <td>KNA</td>\n",
              "      <td>North America</td>\n",
              "      <td>Saint Kitts and Nevis</td>\n",
              "      <td>2020-06-21</td>\n",
              "      <td>15.0</td>\n",
              "      <td>0.0</td>\n",
              "      <td>0.0</td>\n",
              "      <td>0.0</td>\n",
              "      <td>281.997</td>\n",
              "      <td>0.000</td>\n",
              "      <td>0.000</td>\n",
              "      <td>0.000</td>\n",
              "      <td>NaN</td>\n",
              "      <td>NaN</td>\n",
              "      <td>NaN</td>\n",
              "      <td>NaN</td>\n",
              "      <td>NaN</td>\n",
              "      <td>NaN</td>\n",
              "      <td>NaN</td>\n",
              "      <td>NaN</td>\n",
              "      <td>53192</td>\n",
              "      <td>212.865</td>\n",
              "      <td>NaN</td>\n",
              "      <td>NaN</td>\n",
              "      <td>NaN</td>\n",
              "      <td>24654.385</td>\n",
              "      <td>NaN</td>\n",
              "      <td>NaN</td>\n",
              "      <td>12.84</td>\n",
              "      <td>NaN</td>\n",
              "      <td>NaN</td>\n",
              "      <td>NaN</td>\n",
              "      <td>2.300</td>\n",
              "      <td>76.23</td>\n",
              "    </tr>\n",
              "  </tbody>\n",
              "</table>\n",
              "<p>206 rows × 34 columns</p>\n",
              "</div>"
            ],
            "text/plain": [
              "       iso_code      continent  ... hospital_beds_per_thousand life_expectancy\n",
              "24946  OWID_WRL            NaN  ...                      2.705           72.58\n",
              "23896       USA  North America  ...                      2.770           78.86\n",
              "3432        BRA  South America  ...                      2.200           75.88\n",
              "23722       GBR         Europe  ...                      2.540           81.32\n",
              "11815       ITA         Europe  ...                      3.180           83.51\n",
              "...         ...            ...  ...                        ...             ...\n",
              "20177       SYC         Africa  ...                      3.600           73.40\n",
              "8349        PYF        Oceania  ...                        NaN           77.66\n",
              "7906        FJI        Oceania  ...                      2.300           67.44\n",
              "7812        FLK  South America  ...                        NaN           81.44\n",
              "19305       KNA  North America  ...                      2.300           76.23\n",
              "\n",
              "[206 rows x 34 columns]"
            ]
          },
          "metadata": {
            "tags": []
          },
          "execution_count": 8
        }
      ]
    },
    {
      "cell_type": "markdown",
      "metadata": {
        "id": "f-KX5wV55AJB",
        "colab_type": "text"
      },
      "source": [
        "Quantos casos no mundo:"
      ]
    },
    {
      "cell_type": "code",
      "metadata": {
        "id": "iANln_Ph5Dao",
        "colab_type": "code",
        "colab": {
          "base_uri": "https://localhost:8080/",
          "height": 402
        },
        "outputId": "6197c9dd-291b-4483-d3ef-f55d4e1bc85e"
      },
      "source": [
        "df.loc[df.date == '2020-06-21', ['location', 'total_deaths', 'total_cases']].sort_values(by=\"total_deaths\", ascending=False)\n"
      ],
      "execution_count": 36,
      "outputs": [
        {
          "output_type": "execute_result",
          "data": {
            "text/html": [
              "<div>\n",
              "<style scoped>\n",
              "    .dataframe tbody tr th:only-of-type {\n",
              "        vertical-align: middle;\n",
              "    }\n",
              "\n",
              "    .dataframe tbody tr th {\n",
              "        vertical-align: top;\n",
              "    }\n",
              "\n",
              "    .dataframe thead th {\n",
              "        text-align: right;\n",
              "    }\n",
              "</style>\n",
              "<table border=\"1\" class=\"dataframe\">\n",
              "  <thead>\n",
              "    <tr style=\"text-align: right;\">\n",
              "      <th></th>\n",
              "      <th>location</th>\n",
              "      <th>total_deaths</th>\n",
              "      <th>total_cases</th>\n",
              "    </tr>\n",
              "  </thead>\n",
              "  <tbody>\n",
              "    <tr>\n",
              "      <th>24946</th>\n",
              "      <td>World</td>\n",
              "      <td>466189.0</td>\n",
              "      <td>8795672.0</td>\n",
              "    </tr>\n",
              "    <tr>\n",
              "      <th>23896</th>\n",
              "      <td>United States</td>\n",
              "      <td>119719.0</td>\n",
              "      <td>2255119.0</td>\n",
              "    </tr>\n",
              "    <tr>\n",
              "      <th>3432</th>\n",
              "      <td>Brazil</td>\n",
              "      <td>49976.0</td>\n",
              "      <td>1067579.0</td>\n",
              "    </tr>\n",
              "    <tr>\n",
              "      <th>23722</th>\n",
              "      <td>United Kingdom</td>\n",
              "      <td>42589.0</td>\n",
              "      <td>303110.0</td>\n",
              "    </tr>\n",
              "    <tr>\n",
              "      <th>11815</th>\n",
              "      <td>Italy</td>\n",
              "      <td>34610.0</td>\n",
              "      <td>238275.0</td>\n",
              "    </tr>\n",
              "    <tr>\n",
              "      <th>...</th>\n",
              "      <td>...</td>\n",
              "      <td>...</td>\n",
              "      <td>...</td>\n",
              "    </tr>\n",
              "    <tr>\n",
              "      <th>20177</th>\n",
              "      <td>Seychelles</td>\n",
              "      <td>0.0</td>\n",
              "      <td>11.0</td>\n",
              "    </tr>\n",
              "    <tr>\n",
              "      <th>8349</th>\n",
              "      <td>French Polynesia</td>\n",
              "      <td>0.0</td>\n",
              "      <td>60.0</td>\n",
              "    </tr>\n",
              "    <tr>\n",
              "      <th>7906</th>\n",
              "      <td>Fiji</td>\n",
              "      <td>0.0</td>\n",
              "      <td>18.0</td>\n",
              "    </tr>\n",
              "    <tr>\n",
              "      <th>7812</th>\n",
              "      <td>Falkland Islands</td>\n",
              "      <td>0.0</td>\n",
              "      <td>13.0</td>\n",
              "    </tr>\n",
              "    <tr>\n",
              "      <th>19305</th>\n",
              "      <td>Saint Kitts and Nevis</td>\n",
              "      <td>0.0</td>\n",
              "      <td>15.0</td>\n",
              "    </tr>\n",
              "  </tbody>\n",
              "</table>\n",
              "<p>206 rows × 3 columns</p>\n",
              "</div>"
            ],
            "text/plain": [
              "                    location  total_deaths  total_cases\n",
              "24946                  World      466189.0    8795672.0\n",
              "23896          United States      119719.0    2255119.0\n",
              "3432                  Brazil       49976.0    1067579.0\n",
              "23722         United Kingdom       42589.0     303110.0\n",
              "11815                  Italy       34610.0     238275.0\n",
              "...                      ...           ...          ...\n",
              "20177             Seychelles           0.0         11.0\n",
              "8349        French Polynesia           0.0         60.0\n",
              "7906                    Fiji           0.0         18.0\n",
              "7812        Falkland Islands           0.0         13.0\n",
              "19305  Saint Kitts and Nevis           0.0         15.0\n",
              "\n",
              "[206 rows x 3 columns]"
            ]
          },
          "metadata": {
            "tags": []
          },
          "execution_count": 36
        }
      ]
    },
    {
      "cell_type": "markdown",
      "metadata": {
        "id": "c5Ltj14Mjr_r",
        "colab_type": "text"
      },
      "source": [
        "Vamos verificar os 05 paises com mais mortes.\n",
        "\n",
        " \n"
      ]
    },
    {
      "cell_type": "code",
      "metadata": {
        "id": "za2EKDdNoLNV",
        "colab_type": "code",
        "colab": {
          "base_uri": "https://localhost:8080/",
          "height": 195
        },
        "outputId": "901bf129-3b06-4ced-adcc-eb231660d2ca"
      },
      "source": [
        "df.loc[df.date == '2020-06-21', ['location', 'total_deaths']].sort_values(by='total_deaths', ascending=False)[1:6]\n",
        "#df_top5"
      ],
      "execution_count": 35,
      "outputs": [
        {
          "output_type": "execute_result",
          "data": {
            "text/html": [
              "<div>\n",
              "<style scoped>\n",
              "    .dataframe tbody tr th:only-of-type {\n",
              "        vertical-align: middle;\n",
              "    }\n",
              "\n",
              "    .dataframe tbody tr th {\n",
              "        vertical-align: top;\n",
              "    }\n",
              "\n",
              "    .dataframe thead th {\n",
              "        text-align: right;\n",
              "    }\n",
              "</style>\n",
              "<table border=\"1\" class=\"dataframe\">\n",
              "  <thead>\n",
              "    <tr style=\"text-align: right;\">\n",
              "      <th></th>\n",
              "      <th>location</th>\n",
              "      <th>total_deaths</th>\n",
              "    </tr>\n",
              "  </thead>\n",
              "  <tbody>\n",
              "    <tr>\n",
              "      <th>23896</th>\n",
              "      <td>United States</td>\n",
              "      <td>119719.0</td>\n",
              "    </tr>\n",
              "    <tr>\n",
              "      <th>3432</th>\n",
              "      <td>Brazil</td>\n",
              "      <td>49976.0</td>\n",
              "    </tr>\n",
              "    <tr>\n",
              "      <th>23722</th>\n",
              "      <td>United Kingdom</td>\n",
              "      <td>42589.0</td>\n",
              "    </tr>\n",
              "    <tr>\n",
              "      <th>11815</th>\n",
              "      <td>Italy</td>\n",
              "      <td>34610.0</td>\n",
              "    </tr>\n",
              "    <tr>\n",
              "      <th>8254</th>\n",
              "      <td>France</td>\n",
              "      <td>29633.0</td>\n",
              "    </tr>\n",
              "  </tbody>\n",
              "</table>\n",
              "</div>"
            ],
            "text/plain": [
              "             location  total_deaths\n",
              "23896   United States      119719.0\n",
              "3432           Brazil       49976.0\n",
              "23722  United Kingdom       42589.0\n",
              "11815           Italy       34610.0\n",
              "8254           France       29633.0"
            ]
          },
          "metadata": {
            "tags": []
          },
          "execution_count": 35
        }
      ]
    },
    {
      "cell_type": "markdown",
      "metadata": {
        "id": "ucngwz92Muwk",
        "colab_type": "text"
      },
      "source": [
        "grafico de barras com os 5 paises com mais morte."
      ]
    },
    {
      "cell_type": "code",
      "metadata": {
        "id": "qF5bglgnMsse",
        "colab_type": "code",
        "colab": {
          "base_uri": "https://localhost:8080/",
          "height": 297
        },
        "outputId": "d8836989-6d97-4c01-a73f-e8c6f78b4cb5"
      },
      "source": [
        "fig, ax = plt.subplots()\n",
        "ax.bar('location', 'total_deaths', color =\"b\", data=df_top5);\n",
        "ax.set_title('Países com mais óbitos por covid-19')\n",
        "ax.set_ylabel('Óbitos')\n",
        "\n",
        "\n",
        "plt.tight_layout();"
      ],
      "execution_count": 11,
      "outputs": [
        {
          "output_type": "display_data",
          "data": {
            "image/png": "[encoded data removed]",
            "text/plain": [
              "<Figure size 432x288 with 1 Axes>"
            ]
          },
          "metadata": {
            "tags": [],
            "needs_background": "light"
          }
        }
      ]
    },
    {
      "cell_type": "markdown",
      "metadata": {
        "id": "Cu4XNXkLdXFX",
        "colab_type": "text"
      },
      "source": [
        "Verificar os 5 países com mais Casos.\n",
        "\n",
        "\n",
        "\n"
      ]
    },
    {
      "cell_type": "code",
      "metadata": {
        "id": "x_0rqwfxn3bC",
        "colab_type": "code",
        "colab": {
          "base_uri": "https://localhost:8080/",
          "height": 195
        },
        "outputId": "019161d9-4454-4eed-fe24-0fdc6fd5eff0"
      },
      "source": [
        "df_top5 = df.loc[df.date == '2020-06-21', ['location', 'total_cases']].sort_values(by='total_cases', ascending=False)[1:6]\n",
        "df_top5\n"
      ],
      "execution_count": 13,
      "outputs": [
        {
          "output_type": "execute_result",
          "data": {
            "text/html": [
              "<div>\n",
              "<style scoped>\n",
              "    .dataframe tbody tr th:only-of-type {\n",
              "        vertical-align: middle;\n",
              "    }\n",
              "\n",
              "    .dataframe tbody tr th {\n",
              "        vertical-align: top;\n",
              "    }\n",
              "\n",
              "    .dataframe thead th {\n",
              "        text-align: right;\n",
              "    }\n",
              "</style>\n",
              "<table border=\"1\" class=\"dataframe\">\n",
              "  <thead>\n",
              "    <tr style=\"text-align: right;\">\n",
              "      <th></th>\n",
              "      <th>location</th>\n",
              "      <th>total_cases</th>\n",
              "    </tr>\n",
              "  </thead>\n",
              "  <tbody>\n",
              "    <tr>\n",
              "      <th>23896</th>\n",
              "      <td>United States</td>\n",
              "      <td>2255119.0</td>\n",
              "    </tr>\n",
              "    <tr>\n",
              "      <th>3432</th>\n",
              "      <td>Brazil</td>\n",
              "      <td>1067579.0</td>\n",
              "    </tr>\n",
              "    <tr>\n",
              "      <th>19118</th>\n",
              "      <td>Russia</td>\n",
              "      <td>576952.0</td>\n",
              "    </tr>\n",
              "    <tr>\n",
              "      <th>10688</th>\n",
              "      <td>India</td>\n",
              "      <td>410461.0</td>\n",
              "    </tr>\n",
              "    <tr>\n",
              "      <th>23722</th>\n",
              "      <td>United Kingdom</td>\n",
              "      <td>303110.0</td>\n",
              "    </tr>\n",
              "  </tbody>\n",
              "</table>\n",
              "</div>"
            ],
            "text/plain": [
              "             location  total_cases\n",
              "23896   United States    2255119.0\n",
              "3432           Brazil    1067579.0\n",
              "19118          Russia     576952.0\n",
              "10688           India     410461.0\n",
              "23722  United Kingdom     303110.0"
            ]
          },
          "metadata": {
            "tags": []
          },
          "execution_count": 13
        }
      ]
    },
    {
      "cell_type": "markdown",
      "metadata": {
        "id": "7rLnNm1jXxYB",
        "colab_type": "text"
      },
      "source": [
        "Plotar um gráfico de barras para os 5 países com mais Casos.\n"
      ]
    },
    {
      "cell_type": "code",
      "metadata": {
        "id": "Quxka5pXdcoj",
        "colab_type": "code",
        "colab": {
          "base_uri": "https://localhost:8080/",
          "height": 297
        },
        "outputId": "75bc3fa5-0182-42b5-d83b-a761cbb266b6"
      },
      "source": [
        "fig, ax = plt.subplots()\n",
        "ax.bar('location', 'total_cases', color =\"b\", data=df_top5);\n",
        "ax.set_title('Países com mais casos por covid-19')\n",
        "ax.set_ylabel('Casos')\n",
        "plt.tight_layout();\n",
        "\n",
        "\n",
        "\n"
      ],
      "execution_count": 14,
      "outputs": [
        {
          "output_type": "display_data",
          "data": {
            "image/png": "[encoded data removed]",
            "text/plain": [
              "<Figure size 432x288 with 1 Axes>"
            ]
          },
          "metadata": {
            "tags": [],
            "needs_background": "light"
          }
        }
      ]
    },
    {
      "cell_type": "markdown",
      "metadata": {
        "id": "sfHeVz6_kQWg",
        "colab_type": "text"
      },
      "source": [
        "Plotar um gráfico de linhas para ver a evolução do total de casos de COVID-19 no mundo.\n",
        "    "
      ]
    },
    {
      "cell_type": "code",
      "metadata": {
        "id": "KQ3wcgBqkbGr",
        "colab_type": "code",
        "colab": {
          "base_uri": "https://localhost:8080/",
          "height": 265
        },
        "outputId": "2e30ff9b-c938-46d8-a570-12d08b7f63fe"
      },
      "source": [
        "df.loc[df.location == \"World\", \"total_deaths\"].reset_index(drop=True).plot();"
      ],
      "execution_count": 15,
      "outputs": [
        {
          "output_type": "display_data",
          "data": {
            "image/png": "[encoded data removed]",
            "text/plain": [
              "<Figure size 432x288 with 1 Axes>"
            ]
          },
          "metadata": {
            "tags": [],
            "needs_background": "light"
          }
        }
      ]
    },
    {
      "cell_type": "markdown",
      "metadata": {
        "id": "ehxM4cAOHmM2",
        "colab_type": "text"
      },
      "source": [
        "evolução total de CASOS no mundo."
      ]
    },
    {
      "cell_type": "code",
      "metadata": {
        "id": "HfVaz_vyHk_7",
        "colab_type": "code",
        "colab": {
          "base_uri": "https://localhost:8080/",
          "height": 276
        },
        "outputId": "b0c86ac3-5fde-4ced-b66b-d136b6daba6e"
      },
      "source": [
        "df.loc[df.location == \"World\", \"total_cases\"].reset_index(drop=True).plot();"
      ],
      "execution_count": 16,
      "outputs": [
        {
          "output_type": "display_data",
          "data": {
            "image/png": "[encoded data removed]",
            "text/plain": [
              "<Figure size 432x288 with 1 Axes>"
            ]
          },
          "metadata": {
            "tags": [],
            "needs_background": "light"
          }
        }
      ]
    },
    {
      "cell_type": "markdown",
      "metadata": {
        "id": "mnSY7lJfknr5",
        "colab_type": "text"
      },
      "source": [
        "\n",
        "Plotar um gráfico de dispersão considerando `gdp_per_capita` (ou seja, o PIB dos países) pelo número total de mortos. Pegue a data mais recente apenas.\n"
      ]
    },
    {
      "cell_type": "code",
      "metadata": {
        "id": "pUKZ-LSUtg_z",
        "colab_type": "code",
        "colab": {
          "base_uri": "https://localhost:8080/",
          "height": 314
        },
        "outputId": "623a53db-866f-450e-9b1b-a09b258a4756"
      },
      "source": [
        "df_capita=df.loc[df.date == '2020-06-21', ['location', 'total_deaths','gdp_per_capita']].sort_values(by=\"total_deaths\", ascending=False)[1:10]\n",
        "df_capita\n",
        "\n"
      ],
      "execution_count": 17,
      "outputs": [
        {
          "output_type": "execute_result",
          "data": {
            "text/html": [
              "<div>\n",
              "<style scoped>\n",
              "    .dataframe tbody tr th:only-of-type {\n",
              "        vertical-align: middle;\n",
              "    }\n",
              "\n",
              "    .dataframe tbody tr th {\n",
              "        vertical-align: top;\n",
              "    }\n",
              "\n",
              "    .dataframe thead th {\n",
              "        text-align: right;\n",
              "    }\n",
              "</style>\n",
              "<table border=\"1\" class=\"dataframe\">\n",
              "  <thead>\n",
              "    <tr style=\"text-align: right;\">\n",
              "      <th></th>\n",
              "      <th>location</th>\n",
              "      <th>total_deaths</th>\n",
              "      <th>gdp_per_capita</th>\n",
              "    </tr>\n",
              "  </thead>\n",
              "  <tbody>\n",
              "    <tr>\n",
              "      <th>23896</th>\n",
              "      <td>United States</td>\n",
              "      <td>119719.0</td>\n",
              "      <td>54225.446</td>\n",
              "    </tr>\n",
              "    <tr>\n",
              "      <th>3432</th>\n",
              "      <td>Brazil</td>\n",
              "      <td>49976.0</td>\n",
              "      <td>14103.452</td>\n",
              "    </tr>\n",
              "    <tr>\n",
              "      <th>23722</th>\n",
              "      <td>United Kingdom</td>\n",
              "      <td>42589.0</td>\n",
              "      <td>39753.244</td>\n",
              "    </tr>\n",
              "    <tr>\n",
              "      <th>11815</th>\n",
              "      <td>Italy</td>\n",
              "      <td>34610.0</td>\n",
              "      <td>35220.084</td>\n",
              "    </tr>\n",
              "    <tr>\n",
              "      <th>8254</th>\n",
              "      <td>France</td>\n",
              "      <td>29633.0</td>\n",
              "      <td>38605.671</td>\n",
              "    </tr>\n",
              "    <tr>\n",
              "      <th>15077</th>\n",
              "      <td>Mexico</td>\n",
              "      <td>20781.0</td>\n",
              "      <td>17336.469</td>\n",
              "    </tr>\n",
              "    <tr>\n",
              "      <th>10688</th>\n",
              "      <td>India</td>\n",
              "      <td>13254.0</td>\n",
              "      <td>6426.674</td>\n",
              "    </tr>\n",
              "    <tr>\n",
              "      <th>2511</th>\n",
              "      <td>Belgium</td>\n",
              "      <td>9696.0</td>\n",
              "      <td>42658.576</td>\n",
              "    </tr>\n",
              "    <tr>\n",
              "      <th>11029</th>\n",
              "      <td>Iran</td>\n",
              "      <td>9507.0</td>\n",
              "      <td>19082.620</td>\n",
              "    </tr>\n",
              "  </tbody>\n",
              "</table>\n",
              "</div>"
            ],
            "text/plain": [
              "             location  total_deaths  gdp_per_capita\n",
              "23896   United States      119719.0       54225.446\n",
              "3432           Brazil       49976.0       14103.452\n",
              "23722  United Kingdom       42589.0       39753.244\n",
              "11815           Italy       34610.0       35220.084\n",
              "8254           France       29633.0       38605.671\n",
              "15077          Mexico       20781.0       17336.469\n",
              "10688           India       13254.0        6426.674\n",
              "2511          Belgium        9696.0       42658.576\n",
              "11029            Iran        9507.0       19082.620"
            ]
          },
          "metadata": {
            "tags": []
          },
          "execution_count": 17
        }
      ]
    },
    {
      "cell_type": "markdown",
      "metadata": {
        "id": "wltypiLJDPQR",
        "colab_type": "text"
      },
      "source": [
        "indice de mortalidade no mundo"
      ]
    },
    {
      "cell_type": "code",
      "metadata": {
        "id": "bFVJg5hfDS7s",
        "colab_type": "code",
        "colab": {
          "base_uri": "https://localhost:8080/",
          "height": 50
        },
        "outputId": "d7219ff6-93cb-4daf-c6b2-335b41a0b7cd"
      },
      "source": [
        "df_a = df.loc[df.date == '2020-06-21', ['location', 'total_deaths']].sort_values(by=\"total_deaths\", ascending=False)[0:1].copy()\n",
        "df_b = df.loc[df.date == '2020-06-21', ['location', 'total_cases']].sort_values(by=\"total_cases\", ascending=False)[0:1].copy()\n",
        "\n",
        "mortalidade = (df_a.total_deaths / df_b.total_cases) * 100\n",
        "mortalidade"
      ],
      "execution_count": 61,
      "outputs": [
        {
          "output_type": "execute_result",
          "data": {
            "text/plain": [
              "24946    5.300209\n",
              "dtype: float64"
            ]
          },
          "metadata": {
            "tags": []
          },
          "execution_count": 61
        }
      ]
    },
    {
      "cell_type": "markdown",
      "metadata": {
        "id": "SViA5VZ7DYLA",
        "colab_type": "text"
      },
      "source": [
        "### Análise Exploratória para o Brasil\n",
        "\n"
      ]
    },
    {
      "cell_type": "markdown",
      "metadata": {
        "id": "eKc-nU6LmM4_",
        "colab_type": "text"
      },
      "source": [
        "Criando uma cópia do Dataset referente ao Brasil."
      ]
    },
    {
      "cell_type": "code",
      "metadata": {
        "id": "UDQA502_hAwI",
        "colab_type": "code",
        "colab": {}
      },
      "source": [
        "df_brasil = df.loc[df.location == \"Brazil\"].copy()"
      ],
      "execution_count": 18,
      "outputs": []
    },
    {
      "cell_type": "code",
      "metadata": {
        "id": "MWmST6KbmTHe",
        "colab_type": "code",
        "colab": {
          "base_uri": "https://localhost:8080/",
          "height": 299
        },
        "outputId": "d9362ebf-3387-48c2-9c01-41792994b56e"
      },
      "source": [
        "df_brasil.head()"
      ],
      "execution_count": 19,
      "outputs": [
        {
          "output_type": "execute_result",
          "data": {
            "text/html": [
              "<div>\n",
              "<style scoped>\n",
              "    .dataframe tbody tr th:only-of-type {\n",
              "        vertical-align: middle;\n",
              "    }\n",
              "\n",
              "    .dataframe tbody tr th {\n",
              "        vertical-align: top;\n",
              "    }\n",
              "\n",
              "    .dataframe thead th {\n",
              "        text-align: right;\n",
              "    }\n",
              "</style>\n",
              "<table border=\"1\" class=\"dataframe\">\n",
              "  <thead>\n",
              "    <tr style=\"text-align: right;\">\n",
              "      <th></th>\n",
              "      <th>iso_code</th>\n",
              "      <th>continent</th>\n",
              "      <th>location</th>\n",
              "      <th>date</th>\n",
              "      <th>total_cases</th>\n",
              "      <th>new_cases</th>\n",
              "      <th>total_deaths</th>\n",
              "      <th>new_deaths</th>\n",
              "      <th>total_cases_per_million</th>\n",
              "      <th>new_cases_per_million</th>\n",
              "      <th>total_deaths_per_million</th>\n",
              "      <th>new_deaths_per_million</th>\n",
              "      <th>total_tests</th>\n",
              "      <th>new_tests</th>\n",
              "      <th>total_tests_per_thousand</th>\n",
              "      <th>new_tests_per_thousand</th>\n",
              "      <th>new_tests_smoothed</th>\n",
              "      <th>new_tests_smoothed_per_thousand</th>\n",
              "      <th>tests_units</th>\n",
              "      <th>stringency_index</th>\n",
              "      <th>population</th>\n",
              "      <th>population_density</th>\n",
              "      <th>median_age</th>\n",
              "      <th>aged_65_older</th>\n",
              "      <th>aged_70_older</th>\n",
              "      <th>gdp_per_capita</th>\n",
              "      <th>extreme_poverty</th>\n",
              "      <th>cvd_death_rate</th>\n",
              "      <th>diabetes_prevalence</th>\n",
              "      <th>female_smokers</th>\n",
              "      <th>male_smokers</th>\n",
              "      <th>handwashing_facilities</th>\n",
              "      <th>hospital_beds_per_thousand</th>\n",
              "      <th>life_expectancy</th>\n",
              "    </tr>\n",
              "  </thead>\n",
              "  <tbody>\n",
              "    <tr>\n",
              "      <th>3259</th>\n",
              "      <td>BRA</td>\n",
              "      <td>South America</td>\n",
              "      <td>Brazil</td>\n",
              "      <td>2019-12-31</td>\n",
              "      <td>0.0</td>\n",
              "      <td>0.0</td>\n",
              "      <td>0.0</td>\n",
              "      <td>0.0</td>\n",
              "      <td>0.0</td>\n",
              "      <td>0.0</td>\n",
              "      <td>0.0</td>\n",
              "      <td>0.0</td>\n",
              "      <td>NaN</td>\n",
              "      <td>NaN</td>\n",
              "      <td>NaN</td>\n",
              "      <td>NaN</td>\n",
              "      <td>NaN</td>\n",
              "      <td>NaN</td>\n",
              "      <td>NaN</td>\n",
              "      <td>NaN</td>\n",
              "      <td>212559409</td>\n",
              "      <td>25.04</td>\n",
              "      <td>33.5</td>\n",
              "      <td>8.552</td>\n",
              "      <td>5.06</td>\n",
              "      <td>14103.452</td>\n",
              "      <td>3.4</td>\n",
              "      <td>177.961</td>\n",
              "      <td>8.11</td>\n",
              "      <td>10.1</td>\n",
              "      <td>17.9</td>\n",
              "      <td>NaN</td>\n",
              "      <td>2.2</td>\n",
              "      <td>75.88</td>\n",
              "    </tr>\n",
              "    <tr>\n",
              "      <th>3260</th>\n",
              "      <td>BRA</td>\n",
              "      <td>South America</td>\n",
              "      <td>Brazil</td>\n",
              "      <td>2020-01-01</td>\n",
              "      <td>0.0</td>\n",
              "      <td>0.0</td>\n",
              "      <td>0.0</td>\n",
              "      <td>0.0</td>\n",
              "      <td>0.0</td>\n",
              "      <td>0.0</td>\n",
              "      <td>0.0</td>\n",
              "      <td>0.0</td>\n",
              "      <td>NaN</td>\n",
              "      <td>NaN</td>\n",
              "      <td>NaN</td>\n",
              "      <td>NaN</td>\n",
              "      <td>NaN</td>\n",
              "      <td>NaN</td>\n",
              "      <td>NaN</td>\n",
              "      <td>0.0</td>\n",
              "      <td>212559409</td>\n",
              "      <td>25.04</td>\n",
              "      <td>33.5</td>\n",
              "      <td>8.552</td>\n",
              "      <td>5.06</td>\n",
              "      <td>14103.452</td>\n",
              "      <td>3.4</td>\n",
              "      <td>177.961</td>\n",
              "      <td>8.11</td>\n",
              "      <td>10.1</td>\n",
              "      <td>17.9</td>\n",
              "      <td>NaN</td>\n",
              "      <td>2.2</td>\n",
              "      <td>75.88</td>\n",
              "    </tr>\n",
              "    <tr>\n",
              "      <th>3261</th>\n",
              "      <td>BRA</td>\n",
              "      <td>South America</td>\n",
              "      <td>Brazil</td>\n",
              "      <td>2020-01-02</td>\n",
              "      <td>0.0</td>\n",
              "      <td>0.0</td>\n",
              "      <td>0.0</td>\n",
              "      <td>0.0</td>\n",
              "      <td>0.0</td>\n",
              "      <td>0.0</td>\n",
              "      <td>0.0</td>\n",
              "      <td>0.0</td>\n",
              "      <td>NaN</td>\n",
              "      <td>NaN</td>\n",
              "      <td>NaN</td>\n",
              "      <td>NaN</td>\n",
              "      <td>NaN</td>\n",
              "      <td>NaN</td>\n",
              "      <td>NaN</td>\n",
              "      <td>0.0</td>\n",
              "      <td>212559409</td>\n",
              "      <td>25.04</td>\n",
              "      <td>33.5</td>\n",
              "      <td>8.552</td>\n",
              "      <td>5.06</td>\n",
              "      <td>14103.452</td>\n",
              "      <td>3.4</td>\n",
              "      <td>177.961</td>\n",
              "      <td>8.11</td>\n",
              "      <td>10.1</td>\n",
              "      <td>17.9</td>\n",
              "      <td>NaN</td>\n",
              "      <td>2.2</td>\n",
              "      <td>75.88</td>\n",
              "    </tr>\n",
              "    <tr>\n",
              "      <th>3262</th>\n",
              "      <td>BRA</td>\n",
              "      <td>South America</td>\n",
              "      <td>Brazil</td>\n",
              "      <td>2020-01-03</td>\n",
              "      <td>0.0</td>\n",
              "      <td>0.0</td>\n",
              "      <td>0.0</td>\n",
              "      <td>0.0</td>\n",
              "      <td>0.0</td>\n",
              "      <td>0.0</td>\n",
              "      <td>0.0</td>\n",
              "      <td>0.0</td>\n",
              "      <td>NaN</td>\n",
              "      <td>NaN</td>\n",
              "      <td>NaN</td>\n",
              "      <td>NaN</td>\n",
              "      <td>NaN</td>\n",
              "      <td>NaN</td>\n",
              "      <td>NaN</td>\n",
              "      <td>0.0</td>\n",
              "      <td>212559409</td>\n",
              "      <td>25.04</td>\n",
              "      <td>33.5</td>\n",
              "      <td>8.552</td>\n",
              "      <td>5.06</td>\n",
              "      <td>14103.452</td>\n",
              "      <td>3.4</td>\n",
              "      <td>177.961</td>\n",
              "      <td>8.11</td>\n",
              "      <td>10.1</td>\n",
              "      <td>17.9</td>\n",
              "      <td>NaN</td>\n",
              "      <td>2.2</td>\n",
              "      <td>75.88</td>\n",
              "    </tr>\n",
              "    <tr>\n",
              "      <th>3263</th>\n",
              "      <td>BRA</td>\n",
              "      <td>South America</td>\n",
              "      <td>Brazil</td>\n",
              "      <td>2020-01-04</td>\n",
              "      <td>0.0</td>\n",
              "      <td>0.0</td>\n",
              "      <td>0.0</td>\n",
              "      <td>0.0</td>\n",
              "      <td>0.0</td>\n",
              "      <td>0.0</td>\n",
              "      <td>0.0</td>\n",
              "      <td>0.0</td>\n",
              "      <td>NaN</td>\n",
              "      <td>NaN</td>\n",
              "      <td>NaN</td>\n",
              "      <td>NaN</td>\n",
              "      <td>NaN</td>\n",
              "      <td>NaN</td>\n",
              "      <td>NaN</td>\n",
              "      <td>0.0</td>\n",
              "      <td>212559409</td>\n",
              "      <td>25.04</td>\n",
              "      <td>33.5</td>\n",
              "      <td>8.552</td>\n",
              "      <td>5.06</td>\n",
              "      <td>14103.452</td>\n",
              "      <td>3.4</td>\n",
              "      <td>177.961</td>\n",
              "      <td>8.11</td>\n",
              "      <td>10.1</td>\n",
              "      <td>17.9</td>\n",
              "      <td>NaN</td>\n",
              "      <td>2.2</td>\n",
              "      <td>75.88</td>\n",
              "    </tr>\n",
              "  </tbody>\n",
              "</table>\n",
              "</div>"
            ],
            "text/plain": [
              "     iso_code      continent  ... hospital_beds_per_thousand life_expectancy\n",
              "3259      BRA  South America  ...                        2.2           75.88\n",
              "3260      BRA  South America  ...                        2.2           75.88\n",
              "3261      BRA  South America  ...                        2.2           75.88\n",
              "3262      BRA  South America  ...                        2.2           75.88\n",
              "3263      BRA  South America  ...                        2.2           75.88\n",
              "\n",
              "[5 rows x 34 columns]"
            ]
          },
          "metadata": {
            "tags": []
          },
          "execution_count": 19
        }
      ]
    },
    {
      "cell_type": "markdown",
      "metadata": {
        "id": "ETmcd6Z-zkfF",
        "colab_type": "text"
      },
      "source": [
        "Casos novos por dia."
      ]
    },
    {
      "cell_type": "code",
      "metadata": {
        "id": "3G2LMUNS8DRD",
        "colab_type": "code",
        "colab": {
          "base_uri": "https://localhost:8080/",
          "height": 77
        },
        "outputId": "6d7d96cc-b1a5-44b6-d702-581ce0b7a887"
      },
      "source": [
        "df_brasil.loc[df.date == '2020-06-21', ['location', 'new_cases']].sort_values(by=\"new_cases\", ascending=False)\n"
      ],
      "execution_count": 45,
      "outputs": [
        {
          "output_type": "execute_result",
          "data": {
            "text/html": [
              "<div>\n",
              "<style scoped>\n",
              "    .dataframe tbody tr th:only-of-type {\n",
              "        vertical-align: middle;\n",
              "    }\n",
              "\n",
              "    .dataframe tbody tr th {\n",
              "        vertical-align: top;\n",
              "    }\n",
              "\n",
              "    .dataframe thead th {\n",
              "        text-align: right;\n",
              "    }\n",
              "</style>\n",
              "<table border=\"1\" class=\"dataframe\">\n",
              "  <thead>\n",
              "    <tr style=\"text-align: right;\">\n",
              "      <th></th>\n",
              "      <th>location</th>\n",
              "      <th>new_cases</th>\n",
              "    </tr>\n",
              "  </thead>\n",
              "  <tbody>\n",
              "    <tr>\n",
              "      <th>3432</th>\n",
              "      <td>Brazil</td>\n",
              "      <td>34666.0</td>\n",
              "    </tr>\n",
              "  </tbody>\n",
              "</table>\n",
              "</div>"
            ],
            "text/plain": [
              "     location  new_cases\n",
              "3432   Brazil    34666.0"
            ]
          },
          "metadata": {
            "tags": []
          },
          "execution_count": 45
        }
      ]
    },
    {
      "cell_type": "markdown",
      "metadata": {
        "id": "Rj6V2kgZ84uq",
        "colab_type": "text"
      },
      "source": [
        "obitos por dia "
      ]
    },
    {
      "cell_type": "code",
      "metadata": {
        "id": "_eq-78nx87xx",
        "colab_type": "code",
        "colab": {
          "base_uri": "https://localhost:8080/",
          "height": 77
        },
        "outputId": "b41e2a30-0b4b-4ecc-9a5c-c33919fae031"
      },
      "source": [
        "df_brasil.loc[df.date == '2020-06-21', ['location', 'new_deaths']].sort_values(by=\"new_deaths\", ascending=False)\n"
      ],
      "execution_count": 46,
      "outputs": [
        {
          "output_type": "execute_result",
          "data": {
            "text/html": [
              "<div>\n",
              "<style scoped>\n",
              "    .dataframe tbody tr th:only-of-type {\n",
              "        vertical-align: middle;\n",
              "    }\n",
              "\n",
              "    .dataframe tbody tr th {\n",
              "        vertical-align: top;\n",
              "    }\n",
              "\n",
              "    .dataframe thead th {\n",
              "        text-align: right;\n",
              "    }\n",
              "</style>\n",
              "<table border=\"1\" class=\"dataframe\">\n",
              "  <thead>\n",
              "    <tr style=\"text-align: right;\">\n",
              "      <th></th>\n",
              "      <th>location</th>\n",
              "      <th>new_deaths</th>\n",
              "    </tr>\n",
              "  </thead>\n",
              "  <tbody>\n",
              "    <tr>\n",
              "      <th>3432</th>\n",
              "      <td>Brazil</td>\n",
              "      <td>1022.0</td>\n",
              "    </tr>\n",
              "  </tbody>\n",
              "</table>\n",
              "</div>"
            ],
            "text/plain": [
              "     location  new_deaths\n",
              "3432   Brazil      1022.0"
            ]
          },
          "metadata": {
            "tags": []
          },
          "execution_count": 46
        }
      ]
    },
    {
      "cell_type": "markdown",
      "metadata": {
        "id": "677cNKQNnDQR",
        "colab_type": "text"
      },
      "source": [
        "Quantidade de total casos e total de óbitos.\n"
      ]
    },
    {
      "cell_type": "code",
      "metadata": {
        "id": "khnx0h0tmcC6",
        "colab_type": "code",
        "colab": {
          "base_uri": "https://localhost:8080/",
          "height": 77
        },
        "outputId": "4d2e6ff9-312d-4d36-9136-8c1e7716211d"
      },
      "source": [
        "df_brasil.loc[df.date == '2020-06-21', ['location', 'total_deaths', 'total_cases']].sort_values(by=\"total_deaths\", ascending=False)\n"
      ],
      "execution_count": 20,
      "outputs": [
        {
          "output_type": "execute_result",
          "data": {
            "text/html": [
              "<div>\n",
              "<style scoped>\n",
              "    .dataframe tbody tr th:only-of-type {\n",
              "        vertical-align: middle;\n",
              "    }\n",
              "\n",
              "    .dataframe tbody tr th {\n",
              "        vertical-align: top;\n",
              "    }\n",
              "\n",
              "    .dataframe thead th {\n",
              "        text-align: right;\n",
              "    }\n",
              "</style>\n",
              "<table border=\"1\" class=\"dataframe\">\n",
              "  <thead>\n",
              "    <tr style=\"text-align: right;\">\n",
              "      <th></th>\n",
              "      <th>location</th>\n",
              "      <th>total_deaths</th>\n",
              "      <th>total_cases</th>\n",
              "    </tr>\n",
              "  </thead>\n",
              "  <tbody>\n",
              "    <tr>\n",
              "      <th>3432</th>\n",
              "      <td>Brazil</td>\n",
              "      <td>49976.0</td>\n",
              "      <td>1067579.0</td>\n",
              "    </tr>\n",
              "  </tbody>\n",
              "</table>\n",
              "</div>"
            ],
            "text/plain": [
              "     location  total_deaths  total_cases\n",
              "3432   Brazil       49976.0    1067579.0"
            ]
          },
          "metadata": {
            "tags": []
          },
          "execution_count": 20
        }
      ]
    },
    {
      "cell_type": "markdown",
      "metadata": {
        "id": "G47gKbtsMYHq",
        "colab_type": "text"
      },
      "source": [
        "Calculando data da primeira morte por COVID-19 no Brasil\n"
      ]
    },
    {
      "cell_type": "code",
      "metadata": {
        "id": "vP-fgMWPMfsv",
        "colab_type": "code",
        "colab": {
          "base_uri": "https://localhost:8080/",
          "height": 77
        },
        "outputId": "6669426d-0cc3-4fd4-b190-28d58551a53b"
      },
      "source": [
        "primeiro_obito = df_brasil.loc[df_brasil.new_deaths == 1.0, ['location', 'date', 'new_cases','total_cases', 'new_deaths', 'total_deaths']].reset_index(drop=True).head(1)\n",
        "primeiro_obito\n"
      ],
      "execution_count": 21,
      "outputs": [
        {
          "output_type": "execute_result",
          "data": {
            "text/html": [
              "<div>\n",
              "<style scoped>\n",
              "    .dataframe tbody tr th:only-of-type {\n",
              "        vertical-align: middle;\n",
              "    }\n",
              "\n",
              "    .dataframe tbody tr th {\n",
              "        vertical-align: top;\n",
              "    }\n",
              "\n",
              "    .dataframe thead th {\n",
              "        text-align: right;\n",
              "    }\n",
              "</style>\n",
              "<table border=\"1\" class=\"dataframe\">\n",
              "  <thead>\n",
              "    <tr style=\"text-align: right;\">\n",
              "      <th></th>\n",
              "      <th>location</th>\n",
              "      <th>date</th>\n",
              "      <th>new_cases</th>\n",
              "      <th>total_cases</th>\n",
              "      <th>new_deaths</th>\n",
              "      <th>total_deaths</th>\n",
              "    </tr>\n",
              "  </thead>\n",
              "  <tbody>\n",
              "    <tr>\n",
              "      <th>0</th>\n",
              "      <td>Brazil</td>\n",
              "      <td>2020-03-18</td>\n",
              "      <td>57.0</td>\n",
              "      <td>291.0</td>\n",
              "      <td>1.0</td>\n",
              "      <td>1.0</td>\n",
              "    </tr>\n",
              "  </tbody>\n",
              "</table>\n",
              "</div>"
            ],
            "text/plain": [
              "  location       date  new_cases  total_cases  new_deaths  total_deaths\n",
              "0   Brazil 2020-03-18       57.0        291.0         1.0           1.0"
            ]
          },
          "metadata": {
            "tags": []
          },
          "execution_count": 21
        }
      ]
    },
    {
      "cell_type": "markdown",
      "metadata": {
        "id": "sUIfoJSup0ij",
        "colab_type": "text"
      },
      "source": [
        "Primeiro caso de COVID\n"
      ]
    },
    {
      "cell_type": "code",
      "metadata": {
        "id": "c7AK4Z2hMrkj",
        "colab_type": "code",
        "colab": {
          "base_uri": "https://localhost:8080/",
          "height": 77
        },
        "outputId": "e914f837-dc8b-43d6-91e2-5bdf31388b46"
      },
      "source": [
        "\n",
        "primeiro_caso = df_brasil.loc[df.new_cases >= 1.0,  ['location', 'date', 'new_cases','total_cases', 'new_deaths', 'total_deaths']].sort_values(by='date').reset_index(drop=True).head(1)\n",
        "primeiro_caso"
      ],
      "execution_count": 22,
      "outputs": [
        {
          "output_type": "execute_result",
          "data": {
            "text/html": [
              "<div>\n",
              "<style scoped>\n",
              "    .dataframe tbody tr th:only-of-type {\n",
              "        vertical-align: middle;\n",
              "    }\n",
              "\n",
              "    .dataframe tbody tr th {\n",
              "        vertical-align: top;\n",
              "    }\n",
              "\n",
              "    .dataframe thead th {\n",
              "        text-align: right;\n",
              "    }\n",
              "</style>\n",
              "<table border=\"1\" class=\"dataframe\">\n",
              "  <thead>\n",
              "    <tr style=\"text-align: right;\">\n",
              "      <th></th>\n",
              "      <th>location</th>\n",
              "      <th>date</th>\n",
              "      <th>new_cases</th>\n",
              "      <th>total_cases</th>\n",
              "      <th>new_deaths</th>\n",
              "      <th>total_deaths</th>\n",
              "    </tr>\n",
              "  </thead>\n",
              "  <tbody>\n",
              "    <tr>\n",
              "      <th>0</th>\n",
              "      <td>Brazil</td>\n",
              "      <td>2020-02-26</td>\n",
              "      <td>1.0</td>\n",
              "      <td>1.0</td>\n",
              "      <td>0.0</td>\n",
              "      <td>0.0</td>\n",
              "    </tr>\n",
              "  </tbody>\n",
              "</table>\n",
              "</div>"
            ],
            "text/plain": [
              "  location       date  new_cases  total_cases  new_deaths  total_deaths\n",
              "0   Brazil 2020-02-26        1.0          1.0         0.0           0.0"
            ]
          },
          "metadata": {
            "tags": []
          },
          "execution_count": 22
        }
      ]
    },
    {
      "cell_type": "markdown",
      "metadata": {
        "id": "QbD44qx5HsvF",
        "colab_type": "text"
      },
      "source": [
        "Grafico de linhas"
      ]
    },
    {
      "cell_type": "code",
      "metadata": {
        "id": "J5AQD0prHxMr",
        "colab_type": "code",
        "colab": {
          "base_uri": "https://localhost:8080/",
          "height": 513
        },
        "outputId": "ab429aa1-0d8c-4ff1-8355-bfaf141afca5"
      },
      "source": [
        "fig, ax = plt.subplots(nrows = 1, ncols = 2, figsize = (20,8))\n",
        "\n",
        "#Gráfico linear\n",
        "ax[0].plot(df_brasil.total_cases, color = \"r\")\n",
        "ax[0].set_xlabel(\"Datas\")\n",
        "ax[0].set_title(\"Total de casos no Brasil\")\n",
        "\n",
        "#Gráfico logaritimico\n",
        "ax[1].plot(df_brasil.total_cases, color = \"b\")\n",
        "ax[1].set_title(\"Número de casos no Brasil em logarítimica\")\n",
        "ax[1].set_xlabel(\"Datas\")\n",
        "plt.yscale(\"log\")\n",
        "plt.show()"
      ],
      "execution_count": 23,
      "outputs": [
        {
          "output_type": "display_data",
          "data": {
            "image/png": "[encoded data removed]",
            "text/plain": [
              "<Figure size 1440x576 with 2 Axes>"
            ]
          },
          "metadata": {
            "tags": [],
            "needs_background": "light"
          }
        }
      ]
    },
    {
      "cell_type": "code",
      "metadata": {
        "id": "Lo2MaZayLjUc",
        "colab_type": "code",
        "colab": {
          "base_uri": "https://localhost:8080/",
          "height": 578
        },
        "outputId": "f29f2b13-90fa-4c41-f07d-2ec9fb86c3b0"
      },
      "source": [
        "#Total de casos e total de obitos\n",
        "\n",
        "fig, ax = plt.subplots(nrows = 1, ncols = 2, figsize = (20,8))\n",
        "\n",
        "#Gráfico total de casos\n",
        "ax[0].plot(df_brasil.new_cases, color = \"b\")\n",
        "ax[0].set_xlabel(\"Datas\")\n",
        "ax[0].set_title(\"Novos casos por dia no Brasil\")\n",
        "\n",
        "\n",
        "#Gráfico total de óbitos\n",
        "ax[1].plot(df_brasil.new_deaths, color = \"r\")\n",
        "ax[1].set_xlabel(\"Datas\")\n",
        "ax[1].set_title(\"Total de mortes por dia no Brasil\")\n",
        "\n",
        "plt.tight_layout()"
      ],
      "execution_count": 64,
      "outputs": [
        {
          "output_type": "display_data",
          "data": {
            "image/png": "[encoded data removed]",
            "text/plain": [
              "<Figure size 1440x576 with 2 Axes>"
            ]
          },
          "metadata": {
            "tags": [],
            "needs_background": "light"
          }
        }
      ]
    },
    {
      "cell_type": "markdown",
      "metadata": {
        "id": "AtzbZJzMLief",
        "colab_type": "text"
      },
      "source": [
        "Total de Casos e total de mortes."
      ]
    },
    {
      "cell_type": "code",
      "metadata": {
        "id": "do6WjxWJL2uP",
        "colab_type": "code",
        "colab": {
          "base_uri": "https://localhost:8080/",
          "height": 578
        },
        "outputId": "f24806a9-a0ad-45ba-f96c-984120c6e751"
      },
      "source": [
        "fig, ax = plt.subplots(nrows = 1, ncols = 2, figsize = (20,8))\n",
        "\n",
        "#Gráfico total de casos\n",
        "ax[0].plot(df_brasil.total_cases, color = \"b\")\n",
        "ax[0].set_xlabel(\"Datas\")\n",
        "ax[0].set_title(\"Total casos no Brasil\")\n",
        "\n",
        "\n",
        "#Gráfico total de casos\n",
        "ax[1].plot(df_brasil.total_deaths, color = \"r\")\n",
        "ax[1].set_xlabel(\"Datas\")\n",
        "ax[1].set_title(\"Total de mortes no Brasil\")\n",
        "plt.tight_layout()"
      ],
      "execution_count": 65,
      "outputs": [
        {
          "output_type": "display_data",
          "data": {
            "image/png": "[encoded data removed]",
            "text/plain": [
              "<Figure size 1440x576 with 2 Axes>"
            ]
          },
          "metadata": {
            "tags": [],
            "needs_background": "light"
          }
        }
      ]
    },
    {
      "cell_type": "code",
      "metadata": {
        "id": "F3pJL67eMDlG",
        "colab_type": "code",
        "colab": {
          "base_uri": "https://localhost:8080/",
          "height": 50
        },
        "outputId": "05b92ebd-3146-4fff-d3fb-3b4625751ae3"
      },
      "source": [
        "#Indice de mortalidade\n",
        "\n",
        "df_br = df_brasil.loc[df.date == '2020-06-21', ['location', 'total_deaths']].sort_values(by=\"total_deaths\", ascending=False)[0:1].copy()\n",
        "df_bra = df_brasil.loc[df.date == '2020-06-21', ['location', 'total_cases']].sort_values(by=\"total_cases\", ascending=False)[0:1].copy()\n",
        "\n",
        "indice = (df_br.total_deaths / df_bra.total_cases) * 100\n",
        "indice\n",
        "\n"
      ],
      "execution_count": 66,
      "outputs": [
        {
          "output_type": "execute_result",
          "data": {
            "text/plain": [
              "3432    4.681246\n",
              "dtype: float64"
            ]
          },
          "metadata": {
            "tags": []
          },
          "execution_count": 66
        }
      ]
    },
    {
      "cell_type": "markdown",
      "metadata": {
        "id": "LQzIXAIoN81n",
        "colab_type": "text"
      },
      "source": [
        "**AMERICA DO SUL**\n",
        "\n"
      ]
    },
    {
      "cell_type": "code",
      "metadata": {
        "id": "ix6am8PxN8fl",
        "colab_type": "code",
        "colab": {
          "base_uri": "https://localhost:8080/",
          "height": 590
        },
        "outputId": "4f5d5f01-71fc-4a2d-ea31-a2228ac3fe51"
      },
      "source": [
        "df_americasul = df.loc[df.continent == \"South America\"].copy()\n",
        "df_americasul"
      ],
      "execution_count": 24,
      "outputs": [
        {
          "output_type": "execute_result",
          "data": {
            "text/html": [
              "<div>\n",
              "<style scoped>\n",
              "    .dataframe tbody tr th:only-of-type {\n",
              "        vertical-align: middle;\n",
              "    }\n",
              "\n",
              "    .dataframe tbody tr th {\n",
              "        vertical-align: top;\n",
              "    }\n",
              "\n",
              "    .dataframe thead th {\n",
              "        text-align: right;\n",
              "    }\n",
              "</style>\n",
              "<table border=\"1\" class=\"dataframe\">\n",
              "  <thead>\n",
              "    <tr style=\"text-align: right;\">\n",
              "      <th></th>\n",
              "      <th>iso_code</th>\n",
              "      <th>continent</th>\n",
              "      <th>location</th>\n",
              "      <th>date</th>\n",
              "      <th>total_cases</th>\n",
              "      <th>new_cases</th>\n",
              "      <th>total_deaths</th>\n",
              "      <th>new_deaths</th>\n",
              "      <th>total_cases_per_million</th>\n",
              "      <th>new_cases_per_million</th>\n",
              "      <th>total_deaths_per_million</th>\n",
              "      <th>new_deaths_per_million</th>\n",
              "      <th>total_tests</th>\n",
              "      <th>new_tests</th>\n",
              "      <th>total_tests_per_thousand</th>\n",
              "      <th>new_tests_per_thousand</th>\n",
              "      <th>new_tests_smoothed</th>\n",
              "      <th>new_tests_smoothed_per_thousand</th>\n",
              "      <th>tests_units</th>\n",
              "      <th>stringency_index</th>\n",
              "      <th>population</th>\n",
              "      <th>population_density</th>\n",
              "      <th>median_age</th>\n",
              "      <th>aged_65_older</th>\n",
              "      <th>aged_70_older</th>\n",
              "      <th>gdp_per_capita</th>\n",
              "      <th>extreme_poverty</th>\n",
              "      <th>cvd_death_rate</th>\n",
              "      <th>diabetes_prevalence</th>\n",
              "      <th>female_smokers</th>\n",
              "      <th>male_smokers</th>\n",
              "      <th>handwashing_facilities</th>\n",
              "      <th>hospital_beds_per_thousand</th>\n",
              "      <th>life_expectancy</th>\n",
              "    </tr>\n",
              "  </thead>\n",
              "  <tbody>\n",
              "    <tr>\n",
              "      <th>811</th>\n",
              "      <td>ARG</td>\n",
              "      <td>South America</td>\n",
              "      <td>Argentina</td>\n",
              "      <td>2020-03-04</td>\n",
              "      <td>1.0</td>\n",
              "      <td>1.0</td>\n",
              "      <td>0.0</td>\n",
              "      <td>0.0</td>\n",
              "      <td>0.022</td>\n",
              "      <td>0.022</td>\n",
              "      <td>0.000</td>\n",
              "      <td>0.000</td>\n",
              "      <td>NaN</td>\n",
              "      <td>NaN</td>\n",
              "      <td>NaN</td>\n",
              "      <td>NaN</td>\n",
              "      <td>NaN</td>\n",
              "      <td>NaN</td>\n",
              "      <td>NaN</td>\n",
              "      <td>11.11</td>\n",
              "      <td>45195777</td>\n",
              "      <td>16.177</td>\n",
              "      <td>31.9</td>\n",
              "      <td>11.198</td>\n",
              "      <td>7.441</td>\n",
              "      <td>18933.907</td>\n",
              "      <td>0.6</td>\n",
              "      <td>191.032</td>\n",
              "      <td>5.50</td>\n",
              "      <td>16.2</td>\n",
              "      <td>27.7</td>\n",
              "      <td>NaN</td>\n",
              "      <td>5.0</td>\n",
              "      <td>76.67</td>\n",
              "    </tr>\n",
              "    <tr>\n",
              "      <th>812</th>\n",
              "      <td>ARG</td>\n",
              "      <td>South America</td>\n",
              "      <td>Argentina</td>\n",
              "      <td>2020-03-06</td>\n",
              "      <td>2.0</td>\n",
              "      <td>1.0</td>\n",
              "      <td>0.0</td>\n",
              "      <td>0.0</td>\n",
              "      <td>0.044</td>\n",
              "      <td>0.022</td>\n",
              "      <td>0.000</td>\n",
              "      <td>0.000</td>\n",
              "      <td>NaN</td>\n",
              "      <td>NaN</td>\n",
              "      <td>NaN</td>\n",
              "      <td>NaN</td>\n",
              "      <td>NaN</td>\n",
              "      <td>NaN</td>\n",
              "      <td>NaN</td>\n",
              "      <td>11.11</td>\n",
              "      <td>45195777</td>\n",
              "      <td>16.177</td>\n",
              "      <td>31.9</td>\n",
              "      <td>11.198</td>\n",
              "      <td>7.441</td>\n",
              "      <td>18933.907</td>\n",
              "      <td>0.6</td>\n",
              "      <td>191.032</td>\n",
              "      <td>5.50</td>\n",
              "      <td>16.2</td>\n",
              "      <td>27.7</td>\n",
              "      <td>NaN</td>\n",
              "      <td>5.0</td>\n",
              "      <td>76.67</td>\n",
              "    </tr>\n",
              "    <tr>\n",
              "      <th>813</th>\n",
              "      <td>ARG</td>\n",
              "      <td>South America</td>\n",
              "      <td>Argentina</td>\n",
              "      <td>2020-03-07</td>\n",
              "      <td>8.0</td>\n",
              "      <td>6.0</td>\n",
              "      <td>0.0</td>\n",
              "      <td>0.0</td>\n",
              "      <td>0.177</td>\n",
              "      <td>0.133</td>\n",
              "      <td>0.000</td>\n",
              "      <td>0.000</td>\n",
              "      <td>NaN</td>\n",
              "      <td>NaN</td>\n",
              "      <td>NaN</td>\n",
              "      <td>NaN</td>\n",
              "      <td>NaN</td>\n",
              "      <td>NaN</td>\n",
              "      <td>NaN</td>\n",
              "      <td>11.11</td>\n",
              "      <td>45195777</td>\n",
              "      <td>16.177</td>\n",
              "      <td>31.9</td>\n",
              "      <td>11.198</td>\n",
              "      <td>7.441</td>\n",
              "      <td>18933.907</td>\n",
              "      <td>0.6</td>\n",
              "      <td>191.032</td>\n",
              "      <td>5.50</td>\n",
              "      <td>16.2</td>\n",
              "      <td>27.7</td>\n",
              "      <td>NaN</td>\n",
              "      <td>5.0</td>\n",
              "      <td>76.67</td>\n",
              "    </tr>\n",
              "    <tr>\n",
              "      <th>814</th>\n",
              "      <td>ARG</td>\n",
              "      <td>South America</td>\n",
              "      <td>Argentina</td>\n",
              "      <td>2020-03-08</td>\n",
              "      <td>9.0</td>\n",
              "      <td>1.0</td>\n",
              "      <td>1.0</td>\n",
              "      <td>1.0</td>\n",
              "      <td>0.199</td>\n",
              "      <td>0.022</td>\n",
              "      <td>0.022</td>\n",
              "      <td>0.022</td>\n",
              "      <td>NaN</td>\n",
              "      <td>NaN</td>\n",
              "      <td>NaN</td>\n",
              "      <td>NaN</td>\n",
              "      <td>NaN</td>\n",
              "      <td>NaN</td>\n",
              "      <td>NaN</td>\n",
              "      <td>11.11</td>\n",
              "      <td>45195777</td>\n",
              "      <td>16.177</td>\n",
              "      <td>31.9</td>\n",
              "      <td>11.198</td>\n",
              "      <td>7.441</td>\n",
              "      <td>18933.907</td>\n",
              "      <td>0.6</td>\n",
              "      <td>191.032</td>\n",
              "      <td>5.50</td>\n",
              "      <td>16.2</td>\n",
              "      <td>27.7</td>\n",
              "      <td>NaN</td>\n",
              "      <td>5.0</td>\n",
              "      <td>76.67</td>\n",
              "    </tr>\n",
              "    <tr>\n",
              "      <th>815</th>\n",
              "      <td>ARG</td>\n",
              "      <td>South America</td>\n",
              "      <td>Argentina</td>\n",
              "      <td>2020-03-09</td>\n",
              "      <td>12.0</td>\n",
              "      <td>3.0</td>\n",
              "      <td>1.0</td>\n",
              "      <td>0.0</td>\n",
              "      <td>0.266</td>\n",
              "      <td>0.066</td>\n",
              "      <td>0.022</td>\n",
              "      <td>0.000</td>\n",
              "      <td>NaN</td>\n",
              "      <td>NaN</td>\n",
              "      <td>NaN</td>\n",
              "      <td>NaN</td>\n",
              "      <td>NaN</td>\n",
              "      <td>NaN</td>\n",
              "      <td>NaN</td>\n",
              "      <td>11.11</td>\n",
              "      <td>45195777</td>\n",
              "      <td>16.177</td>\n",
              "      <td>31.9</td>\n",
              "      <td>11.198</td>\n",
              "      <td>7.441</td>\n",
              "      <td>18933.907</td>\n",
              "      <td>0.6</td>\n",
              "      <td>191.032</td>\n",
              "      <td>5.50</td>\n",
              "      <td>16.2</td>\n",
              "      <td>27.7</td>\n",
              "      <td>NaN</td>\n",
              "      <td>5.0</td>\n",
              "      <td>76.67</td>\n",
              "    </tr>\n",
              "    <tr>\n",
              "      <th>...</th>\n",
              "      <td>...</td>\n",
              "      <td>...</td>\n",
              "      <td>...</td>\n",
              "      <td>...</td>\n",
              "      <td>...</td>\n",
              "      <td>...</td>\n",
              "      <td>...</td>\n",
              "      <td>...</td>\n",
              "      <td>...</td>\n",
              "      <td>...</td>\n",
              "      <td>...</td>\n",
              "      <td>...</td>\n",
              "      <td>...</td>\n",
              "      <td>...</td>\n",
              "      <td>...</td>\n",
              "      <td>...</td>\n",
              "      <td>...</td>\n",
              "      <td>...</td>\n",
              "      <td>...</td>\n",
              "      <td>...</td>\n",
              "      <td>...</td>\n",
              "      <td>...</td>\n",
              "      <td>...</td>\n",
              "      <td>...</td>\n",
              "      <td>...</td>\n",
              "      <td>...</td>\n",
              "      <td>...</td>\n",
              "      <td>...</td>\n",
              "      <td>...</td>\n",
              "      <td>...</td>\n",
              "      <td>...</td>\n",
              "      <td>...</td>\n",
              "      <td>...</td>\n",
              "      <td>...</td>\n",
              "    </tr>\n",
              "    <tr>\n",
              "      <th>24276</th>\n",
              "      <td>VEN</td>\n",
              "      <td>South America</td>\n",
              "      <td>Venezuela</td>\n",
              "      <td>2020-06-16</td>\n",
              "      <td>3062.0</td>\n",
              "      <td>84.0</td>\n",
              "      <td>26.0</td>\n",
              "      <td>1.0</td>\n",
              "      <td>107.681</td>\n",
              "      <td>2.954</td>\n",
              "      <td>0.914</td>\n",
              "      <td>0.035</td>\n",
              "      <td>NaN</td>\n",
              "      <td>NaN</td>\n",
              "      <td>NaN</td>\n",
              "      <td>NaN</td>\n",
              "      <td>NaN</td>\n",
              "      <td>NaN</td>\n",
              "      <td>NaN</td>\n",
              "      <td>NaN</td>\n",
              "      <td>28435943</td>\n",
              "      <td>36.253</td>\n",
              "      <td>29.0</td>\n",
              "      <td>6.614</td>\n",
              "      <td>3.915</td>\n",
              "      <td>16745.022</td>\n",
              "      <td>NaN</td>\n",
              "      <td>204.850</td>\n",
              "      <td>6.47</td>\n",
              "      <td>NaN</td>\n",
              "      <td>NaN</td>\n",
              "      <td>NaN</td>\n",
              "      <td>0.8</td>\n",
              "      <td>72.06</td>\n",
              "    </tr>\n",
              "    <tr>\n",
              "      <th>24277</th>\n",
              "      <td>VEN</td>\n",
              "      <td>South America</td>\n",
              "      <td>Venezuela</td>\n",
              "      <td>2020-06-17</td>\n",
              "      <td>3150.0</td>\n",
              "      <td>88.0</td>\n",
              "      <td>27.0</td>\n",
              "      <td>1.0</td>\n",
              "      <td>110.775</td>\n",
              "      <td>3.095</td>\n",
              "      <td>0.950</td>\n",
              "      <td>0.035</td>\n",
              "      <td>NaN</td>\n",
              "      <td>NaN</td>\n",
              "      <td>NaN</td>\n",
              "      <td>NaN</td>\n",
              "      <td>NaN</td>\n",
              "      <td>NaN</td>\n",
              "      <td>NaN</td>\n",
              "      <td>NaN</td>\n",
              "      <td>28435943</td>\n",
              "      <td>36.253</td>\n",
              "      <td>29.0</td>\n",
              "      <td>6.614</td>\n",
              "      <td>3.915</td>\n",
              "      <td>16745.022</td>\n",
              "      <td>NaN</td>\n",
              "      <td>204.850</td>\n",
              "      <td>6.47</td>\n",
              "      <td>NaN</td>\n",
              "      <td>NaN</td>\n",
              "      <td>NaN</td>\n",
              "      <td>0.8</td>\n",
              "      <td>72.06</td>\n",
              "    </tr>\n",
              "    <tr>\n",
              "      <th>24278</th>\n",
              "      <td>VEN</td>\n",
              "      <td>South America</td>\n",
              "      <td>Venezuela</td>\n",
              "      <td>2020-06-19</td>\n",
              "      <td>3484.0</td>\n",
              "      <td>334.0</td>\n",
              "      <td>28.0</td>\n",
              "      <td>1.0</td>\n",
              "      <td>122.521</td>\n",
              "      <td>11.746</td>\n",
              "      <td>0.985</td>\n",
              "      <td>0.035</td>\n",
              "      <td>NaN</td>\n",
              "      <td>NaN</td>\n",
              "      <td>NaN</td>\n",
              "      <td>NaN</td>\n",
              "      <td>NaN</td>\n",
              "      <td>NaN</td>\n",
              "      <td>NaN</td>\n",
              "      <td>NaN</td>\n",
              "      <td>28435943</td>\n",
              "      <td>36.253</td>\n",
              "      <td>29.0</td>\n",
              "      <td>6.614</td>\n",
              "      <td>3.915</td>\n",
              "      <td>16745.022</td>\n",
              "      <td>NaN</td>\n",
              "      <td>204.850</td>\n",
              "      <td>6.47</td>\n",
              "      <td>NaN</td>\n",
              "      <td>NaN</td>\n",
              "      <td>NaN</td>\n",
              "      <td>0.8</td>\n",
              "      <td>72.06</td>\n",
              "    </tr>\n",
              "    <tr>\n",
              "      <th>24279</th>\n",
              "      <td>VEN</td>\n",
              "      <td>South America</td>\n",
              "      <td>Venezuela</td>\n",
              "      <td>2020-06-20</td>\n",
              "      <td>3591.0</td>\n",
              "      <td>107.0</td>\n",
              "      <td>30.0</td>\n",
              "      <td>2.0</td>\n",
              "      <td>126.284</td>\n",
              "      <td>3.763</td>\n",
              "      <td>1.055</td>\n",
              "      <td>0.070</td>\n",
              "      <td>NaN</td>\n",
              "      <td>NaN</td>\n",
              "      <td>NaN</td>\n",
              "      <td>NaN</td>\n",
              "      <td>NaN</td>\n",
              "      <td>NaN</td>\n",
              "      <td>NaN</td>\n",
              "      <td>NaN</td>\n",
              "      <td>28435943</td>\n",
              "      <td>36.253</td>\n",
              "      <td>29.0</td>\n",
              "      <td>6.614</td>\n",
              "      <td>3.915</td>\n",
              "      <td>16745.022</td>\n",
              "      <td>NaN</td>\n",
              "      <td>204.850</td>\n",
              "      <td>6.47</td>\n",
              "      <td>NaN</td>\n",
              "      <td>NaN</td>\n",
              "      <td>NaN</td>\n",
              "      <td>0.8</td>\n",
              "      <td>72.06</td>\n",
              "    </tr>\n",
              "    <tr>\n",
              "      <th>24280</th>\n",
              "      <td>VEN</td>\n",
              "      <td>South America</td>\n",
              "      <td>Venezuela</td>\n",
              "      <td>2020-06-21</td>\n",
              "      <td>3790.0</td>\n",
              "      <td>199.0</td>\n",
              "      <td>33.0</td>\n",
              "      <td>3.0</td>\n",
              "      <td>133.282</td>\n",
              "      <td>6.998</td>\n",
              "      <td>1.161</td>\n",
              "      <td>0.106</td>\n",
              "      <td>NaN</td>\n",
              "      <td>NaN</td>\n",
              "      <td>NaN</td>\n",
              "      <td>NaN</td>\n",
              "      <td>NaN</td>\n",
              "      <td>NaN</td>\n",
              "      <td>NaN</td>\n",
              "      <td>NaN</td>\n",
              "      <td>28435943</td>\n",
              "      <td>36.253</td>\n",
              "      <td>29.0</td>\n",
              "      <td>6.614</td>\n",
              "      <td>3.915</td>\n",
              "      <td>16745.022</td>\n",
              "      <td>NaN</td>\n",
              "      <td>204.850</td>\n",
              "      <td>6.47</td>\n",
              "      <td>NaN</td>\n",
              "      <td>NaN</td>\n",
              "      <td>NaN</td>\n",
              "      <td>0.8</td>\n",
              "      <td>72.06</td>\n",
              "    </tr>\n",
              "  </tbody>\n",
              "</table>\n",
              "<p>1456 rows × 34 columns</p>\n",
              "</div>"
            ],
            "text/plain": [
              "      iso_code      continent  ... hospital_beds_per_thousand life_expectancy\n",
              "811        ARG  South America  ...                        5.0           76.67\n",
              "812        ARG  South America  ...                        5.0           76.67\n",
              "813        ARG  South America  ...                        5.0           76.67\n",
              "814        ARG  South America  ...                        5.0           76.67\n",
              "815        ARG  South America  ...                        5.0           76.67\n",
              "...        ...            ...  ...                        ...             ...\n",
              "24276      VEN  South America  ...                        0.8           72.06\n",
              "24277      VEN  South America  ...                        0.8           72.06\n",
              "24278      VEN  South America  ...                        0.8           72.06\n",
              "24279      VEN  South America  ...                        0.8           72.06\n",
              "24280      VEN  South America  ...                        0.8           72.06\n",
              "\n",
              "[1456 rows x 34 columns]"
            ]
          },
          "metadata": {
            "tags": []
          },
          "execution_count": 24
        }
      ]
    },
    {
      "cell_type": "markdown",
      "metadata": {
        "id": "1Ub_rvsoQcQz",
        "colab_type": "text"
      },
      "source": [
        "GRÁFICO DE BARRAS DOS PAISES E TOTAL DE CASOS\n",
        "\n",
        "\n",
        "\n"
      ]
    },
    {
      "cell_type": "code",
      "metadata": {
        "id": "5LqG_lGORXiX",
        "colab_type": "code",
        "colab": {
          "base_uri": "https://localhost:8080/",
          "height": 432
        },
        "outputId": "1b7d4f49-e014-4071-980e-e94f80ff6c37"
      },
      "source": [
        "df_americasul.loc[df.date == '2020-06-21', ['location', 'total_cases']].sort_values(by='total_cases', ascending=False)\n",
        "\n"
      ],
      "execution_count": 25,
      "outputs": [
        {
          "output_type": "execute_result",
          "data": {
            "text/html": [
              "<div>\n",
              "<style scoped>\n",
              "    .dataframe tbody tr th:only-of-type {\n",
              "        vertical-align: middle;\n",
              "    }\n",
              "\n",
              "    .dataframe tbody tr th {\n",
              "        vertical-align: top;\n",
              "    }\n",
              "\n",
              "    .dataframe thead th {\n",
              "        text-align: right;\n",
              "    }\n",
              "</style>\n",
              "<table border=\"1\" class=\"dataframe\">\n",
              "  <thead>\n",
              "    <tr style=\"text-align: right;\">\n",
              "      <th></th>\n",
              "      <th>location</th>\n",
              "      <th>total_cases</th>\n",
              "    </tr>\n",
              "  </thead>\n",
              "  <tbody>\n",
              "    <tr>\n",
              "      <th>3432</th>\n",
              "      <td>Brazil</td>\n",
              "      <td>1067579.0</td>\n",
              "    </tr>\n",
              "    <tr>\n",
              "      <th>18124</th>\n",
              "      <td>Peru</td>\n",
              "      <td>251338.0</td>\n",
              "    </tr>\n",
              "    <tr>\n",
              "      <th>4837</th>\n",
              "      <td>Chile</td>\n",
              "      <td>236748.0</td>\n",
              "    </tr>\n",
              "    <tr>\n",
              "      <th>5120</th>\n",
              "      <td>Colombia</td>\n",
              "      <td>65633.0</td>\n",
              "    </tr>\n",
              "    <tr>\n",
              "      <th>6909</th>\n",
              "      <td>Ecuador</td>\n",
              "      <td>50183.0</td>\n",
              "    </tr>\n",
              "    <tr>\n",
              "      <th>917</th>\n",
              "      <td>Argentina</td>\n",
              "      <td>41191.0</td>\n",
              "    </tr>\n",
              "    <tr>\n",
              "      <th>2994</th>\n",
              "      <td>Bolivia</td>\n",
              "      <td>23512.0</td>\n",
              "    </tr>\n",
              "    <tr>\n",
              "      <th>24280</th>\n",
              "      <td>Venezuela</td>\n",
              "      <td>3790.0</td>\n",
              "    </tr>\n",
              "    <tr>\n",
              "      <th>18014</th>\n",
              "      <td>Paraguay</td>\n",
              "      <td>1362.0</td>\n",
              "    </tr>\n",
              "    <tr>\n",
              "      <th>24084</th>\n",
              "      <td>Uruguay</td>\n",
              "      <td>859.0</td>\n",
              "    </tr>\n",
              "    <tr>\n",
              "      <th>21663</th>\n",
              "      <td>Suriname</td>\n",
              "      <td>302.0</td>\n",
              "    </tr>\n",
              "    <tr>\n",
              "      <th>10016</th>\n",
              "      <td>Guyana</td>\n",
              "      <td>183.0</td>\n",
              "    </tr>\n",
              "    <tr>\n",
              "      <th>7812</th>\n",
              "      <td>Falkland Islands</td>\n",
              "      <td>13.0</td>\n",
              "    </tr>\n",
              "  </tbody>\n",
              "</table>\n",
              "</div>"
            ],
            "text/plain": [
              "               location  total_cases\n",
              "3432             Brazil    1067579.0\n",
              "18124              Peru     251338.0\n",
              "4837              Chile     236748.0\n",
              "5120           Colombia      65633.0\n",
              "6909            Ecuador      50183.0\n",
              "917           Argentina      41191.0\n",
              "2994            Bolivia      23512.0\n",
              "24280         Venezuela       3790.0\n",
              "18014          Paraguay       1362.0\n",
              "24084           Uruguay        859.0\n",
              "21663          Suriname        302.0\n",
              "10016            Guyana        183.0\n",
              "7812   Falkland Islands         13.0"
            ]
          },
          "metadata": {
            "tags": []
          },
          "execution_count": 25
        }
      ]
    },
    {
      "cell_type": "code",
      "metadata": {
        "id": "PvzwpW-zSqz4",
        "colab_type": "code",
        "colab": {
          "base_uri": "https://localhost:8080/",
          "height": 441
        },
        "outputId": "6bb2d1f7-1a92-419b-b729-3989217fdfa7"
      },
      "source": [
        "fig, ax = plt.subplots(figsize=(15,6))\n",
        "ax.bar('location', 'total_cases', data=df_americasul)\n",
        "ax.set_title('Países com mais casos por covid-19')\n",
        "ax.set_ylabel('Casos')\n",
        "plt.tight_layout()"
      ],
      "execution_count": 26,
      "outputs": [
        {
          "output_type": "display_data",
          "data": {
            "image/png": "[encoded data removed]",
            "text/plain": [
              "<Figure size 1080x432 with 1 Axes>"
            ]
          },
          "metadata": {
            "tags": [],
            "needs_background": "light"
          }
        }
      ]
    },
    {
      "cell_type": "markdown",
      "metadata": {
        "id": "y1i4kwbbSrfG",
        "colab_type": "text"
      },
      "source": [
        "grafico de barras dos paises da america do sul com mais óbitos"
      ]
    },
    {
      "cell_type": "code",
      "metadata": {
        "id": "WjtZdj6yS3xR",
        "colab_type": "code",
        "colab": {
          "base_uri": "https://localhost:8080/",
          "height": 432
        },
        "outputId": "59ab84d9-2a6f-4337-9117-3d5a11a9a47b"
      },
      "source": [
        "df_americasul.loc[df.date == '2020-06-21', ['location', 'total_deaths']].sort_values(by='total_deaths', ascending=False)\n"
      ],
      "execution_count": 27,
      "outputs": [
        {
          "output_type": "execute_result",
          "data": {
            "text/html": [
              "<div>\n",
              "<style scoped>\n",
              "    .dataframe tbody tr th:only-of-type {\n",
              "        vertical-align: middle;\n",
              "    }\n",
              "\n",
              "    .dataframe tbody tr th {\n",
              "        vertical-align: top;\n",
              "    }\n",
              "\n",
              "    .dataframe thead th {\n",
              "        text-align: right;\n",
              "    }\n",
              "</style>\n",
              "<table border=\"1\" class=\"dataframe\">\n",
              "  <thead>\n",
              "    <tr style=\"text-align: right;\">\n",
              "      <th></th>\n",
              "      <th>location</th>\n",
              "      <th>total_deaths</th>\n",
              "    </tr>\n",
              "  </thead>\n",
              "  <tbody>\n",
              "    <tr>\n",
              "      <th>3432</th>\n",
              "      <td>Brazil</td>\n",
              "      <td>49976.0</td>\n",
              "    </tr>\n",
              "    <tr>\n",
              "      <th>18124</th>\n",
              "      <td>Peru</td>\n",
              "      <td>7861.0</td>\n",
              "    </tr>\n",
              "    <tr>\n",
              "      <th>4837</th>\n",
              "      <td>Chile</td>\n",
              "      <td>4295.0</td>\n",
              "    </tr>\n",
              "    <tr>\n",
              "      <th>6909</th>\n",
              "      <td>Ecuador</td>\n",
              "      <td>4199.0</td>\n",
              "    </tr>\n",
              "    <tr>\n",
              "      <th>5120</th>\n",
              "      <td>Colombia</td>\n",
              "      <td>2126.0</td>\n",
              "    </tr>\n",
              "    <tr>\n",
              "      <th>917</th>\n",
              "      <td>Argentina</td>\n",
              "      <td>992.0</td>\n",
              "    </tr>\n",
              "    <tr>\n",
              "      <th>2994</th>\n",
              "      <td>Bolivia</td>\n",
              "      <td>740.0</td>\n",
              "    </tr>\n",
              "    <tr>\n",
              "      <th>24280</th>\n",
              "      <td>Venezuela</td>\n",
              "      <td>33.0</td>\n",
              "    </tr>\n",
              "    <tr>\n",
              "      <th>24084</th>\n",
              "      <td>Uruguay</td>\n",
              "      <td>25.0</td>\n",
              "    </tr>\n",
              "    <tr>\n",
              "      <th>18014</th>\n",
              "      <td>Paraguay</td>\n",
              "      <td>13.0</td>\n",
              "    </tr>\n",
              "    <tr>\n",
              "      <th>10016</th>\n",
              "      <td>Guyana</td>\n",
              "      <td>12.0</td>\n",
              "    </tr>\n",
              "    <tr>\n",
              "      <th>21663</th>\n",
              "      <td>Suriname</td>\n",
              "      <td>8.0</td>\n",
              "    </tr>\n",
              "    <tr>\n",
              "      <th>7812</th>\n",
              "      <td>Falkland Islands</td>\n",
              "      <td>0.0</td>\n",
              "    </tr>\n",
              "  </tbody>\n",
              "</table>\n",
              "</div>"
            ],
            "text/plain": [
              "               location  total_deaths\n",
              "3432             Brazil       49976.0\n",
              "18124              Peru        7861.0\n",
              "4837              Chile        4295.0\n",
              "6909            Ecuador        4199.0\n",
              "5120           Colombia        2126.0\n",
              "917           Argentina         992.0\n",
              "2994            Bolivia         740.0\n",
              "24280         Venezuela          33.0\n",
              "24084           Uruguay          25.0\n",
              "18014          Paraguay          13.0\n",
              "10016            Guyana          12.0\n",
              "21663          Suriname           8.0\n",
              "7812   Falkland Islands           0.0"
            ]
          },
          "metadata": {
            "tags": []
          },
          "execution_count": 27
        }
      ]
    },
    {
      "cell_type": "code",
      "metadata": {
        "id": "rB85W970RXvp",
        "colab_type": "code",
        "colab": {
          "base_uri": "https://localhost:8080/",
          "height": 441
        },
        "outputId": "1140afde-13b3-4cc3-d369-61271ab74dc3"
      },
      "source": [
        "\n",
        "fig, ax = plt.subplots(figsize=(15,6))\n",
        "ax.bar('location', 'total_deaths', color=\"b\", data=df_americasul)\n",
        "ax.set_title('Países da América do Sul com mais óbitos por covid-19')\n",
        "ax.set_ylabel('óbitos')\n",
        "plt.tight_layout()\n",
        "\n"
      ],
      "execution_count": 38,
      "outputs": [
        {
          "output_type": "display_data",
          "data": {
            "image/png": "[encoded data removed]",
            "text/plain": [
              "<Figure size 1080x432 with 1 Axes>"
            ]
          },
          "metadata": {
            "tags": [],
            "needs_background": "light"
          }
        }
      ]
    },
    {
      "cell_type": "code",
      "metadata": {
        "id": "ZBVDo-iWBel5",
        "colab_type": "code",
        "colab": {
          "base_uri": "https://localhost:8080/",
          "height": 441
        },
        "outputId": "2b1498fb-0fb5-4e41-c4a2-0957fdc3298c"
      },
      "source": [
        "fig, ax = plt.subplots(figsize=(15,6))\n",
        "ax.bar('location', 'total_tests', color =\"b\", data=df_americasul)\n",
        "ax.set_title('Testes Realizados')\n",
        "ax.set_ylabel('teste')\n",
        "plt.tight_layout()"
      ],
      "execution_count": 29,
      "outputs": [
        {
          "output_type": "display_data",
          "data": {
            "image/png": "[encoded data removed]",
            "text/plain": [
              "<Figure size 1080x432 with 1 Axes>"
            ]
          },
          "metadata": {
            "tags": [],
            "needs_background": "light"
          }
        }
      ]
    },
    {
      "cell_type": "markdown",
      "metadata": {
        "id": "LCsiXvM3BcsO",
        "colab_type": "text"
      },
      "source": [
        "## Conclusão\n",
        "\n",
        "Infelizmente a Pandemia continua em curso, isso quer dizer que enquanto não houver um medicamento ou vacina mais eficaz, a evolução da doença tende a ser mais rápido.\n",
        "Nessa análise conseguimos visualizar que o Brasil é o epicentro tendo como refencia a América do Sul, e numa avaliação global ficando em segundo lugar contendo 1.067.579 casos confirmados e 49.976 óbitos."
      ]
    },
    {
      "cell_type": "code",
      "metadata": {
        "id": "3OmBoFVqDFNN",
        "colab_type": "code",
        "colab": {}
      },
      "source": [
        ""
      ],
      "execution_count": null,
      "outputs": []
    }
  ]
}